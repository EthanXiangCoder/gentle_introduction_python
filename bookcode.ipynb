{
 "cells": [
  {
   "cell_type": "code",
   "execution_count": 70,
   "metadata": {},
   "outputs": [],
   "source": [
    "from string import Template\n",
    "from math import e\n",
    "from math import pi\n",
    "from copy import deepcopy\n",
    "from math import sqrt"
   ]
  },
  {
   "cell_type": "code",
   "execution_count": 2,
   "metadata": {},
   "outputs": [
    {
     "name": "stdout",
     "output_type": "stream",
     "text": [
      "[['men', 13], ['woman', 17]]\n"
     ]
    }
   ],
   "source": [
    "edward = ['men', 13]\n",
    "john = ['woman', 17]\n",
    "name = [edward, john]\n",
    "print(name)"
   ]
  },
  {
   "cell_type": "code",
   "execution_count": 4,
   "metadata": {},
   "outputs": [
    {
     "name": "stdout",
     "output_type": "stream",
     "text": [
      "True\n",
      "True\n",
      "[1, 2, 3, 4, 5, 6, 7, 8, 9, 10]\n"
     ]
    }
   ],
   "source": [
    "num = [1, 2, 3, 4, 5, 6, 7, 8, 9, 10]\n",
    "num1 = num[:]\n",
    "if(num==num1):print(\"True\")\n",
    "print(1 in num)\n",
    "num2 = num[:]\n",
    "num[0] = 10 \n",
    "print(num2)"
   ]
  },
  {
   "cell_type": "markdown",
   "metadata": {},
   "source": [
    "这里开始字符串的部分"
   ]
  },
  {
   "cell_type": "code",
   "execution_count": 5,
   "metadata": {},
   "outputs": [
    {
     "name": "stdout",
     "output_type": "stream",
     "text": [
      "hello, im a student, and my mom is a nurse\n"
     ]
    }
   ],
   "source": [
    "sentense = \"hello, im a %s, and my %s is a nurse\"\n",
    "value = (\"student\", \"mom\")\n",
    "print(sentense%value)"
   ]
  },
  {
   "cell_type": "code",
   "execution_count": 6,
   "metadata": {},
   "outputs": [
    {
     "name": "stdout",
     "output_type": "stream",
     "text": [
      "hello, im a student, and my mom is a nurse\n"
     ]
    }
   ],
   "source": [
    "sentense1 = Template(\"hello, im a $a, and my $b is a nurse\")\n",
    "sentense1.substitute(a=\"student\", b=\"mom\")\n",
    "print(sentense1.substitute(a=\"student\", b=\"mom\")) #直接写sentense1输出的不是字符串"
   ]
  },
  {
   "cell_type": "code",
   "execution_count": 7,
   "metadata": {},
   "outputs": [
    {
     "name": "stdout",
     "output_type": "stream",
     "text": [
      "to be or not to be\n"
     ]
    }
   ],
   "source": [
    "print(\"{2} {1} {3} {0} {2} {1}\".format(\"not\", \"be\" ,\"to\", \"or\"))"
   ]
  },
  {
   "cell_type": "code",
   "execution_count": 8,
   "metadata": {},
   "outputs": [
    {
     "name": "stdout",
     "output_type": "stream",
     "text": [
      "pai is 3.141592653589793\n",
      "Euler's constant is 2.718281828459045\n"
     ]
    }
   ],
   "source": [
    "print(\"{name} is {value}\".format(name=\"pai\",value=pi))\n",
    "print(f\"Euler's constant is {e}\")"
   ]
  },
  {
   "cell_type": "code",
   "execution_count": 9,
   "metadata": {},
   "outputs": [
    {
     "name": "stdout",
     "output_type": "stream",
     "text": [
      "==============================\n",
      "Item                     Price\n",
      "------------------------------\n",
      "Apple                     2.46\n",
      "Pinapple                  3.25\n",
      "Pear                      1.27\n",
      "Mango                     7.37\n",
      "==============================\n"
     ]
    }
   ],
   "source": [
    "total_width = int(input(\"Please input width: \"))\n",
    "\n",
    "item_width = 10\n",
    "price_width = total_width - item_width\n",
    "\n",
    "item_fmt = \"{{:{}}}{{:>{}}}\".format(item_width, price_width)\n",
    "price_fmt = \"{{:{}}}{{:>{}.2f}}\".format(item_width, price_width)\n",
    "\n",
    "print(\"=\"*total_width)\n",
    "\n",
    "print(item_fmt.format(\"Item\",\"Price\"))\n",
    "\n",
    "print(\"-\"*total_width)\n",
    "\n",
    "print(price_fmt.format(\"Apple\",2.465))\n",
    "print(price_fmt.format(\"Pinapple\",3.25468))\n",
    "print(price_fmt.format(\"Pear\",1.26565))\n",
    "print(price_fmt.format(\"Mango\",7.37))\n",
    "\n",
    "print('='*total_width)"
   ]
  },
  {
   "cell_type": "markdown",
   "metadata": {},
   "source": [
    "下面是字符串的常见方法"
   ]
  },
  {
   "cell_type": "code",
   "execution_count": 10,
   "metadata": {},
   "outputs": [
    {
     "name": "stdout",
     "output_type": "stream",
     "text": [
      "************my name is Ethan***********\n"
     ]
    }
   ],
   "source": [
    "print(\"my name is Ethan\".center(39,\"*\"))"
   ]
  },
  {
   "cell_type": "code",
   "execution_count": 11,
   "metadata": {},
   "outputs": [
    {
     "name": "stdout",
     "output_type": "stream",
     "text": [
      "-1\n"
     ]
    }
   ],
   "source": [
    "print(\"$$$$dsjjalsdjlasjkdlasjdl*****$$$$44444\".find(\"444\",0,16)) #-1即没找到"
   ]
  },
  {
   "cell_type": "code",
   "execution_count": 12,
   "metadata": {},
   "outputs": [
    {
     "name": "stdout",
     "output_type": "stream",
     "text": [
      "1+2+3\n"
     ]
    }
   ],
   "source": [
    "seq = [\"1\", \"2\", \"3\"]\n",
    "sep = \"+\"\n",
    "print(sep.join(seq))"
   ]
  },
  {
   "cell_type": "code",
   "execution_count": 13,
   "metadata": {},
   "outputs": [
    {
     "name": "stdout",
     "output_type": "stream",
     "text": [
      "C:\\user\\mydesk\\doc\n"
     ]
    }
   ],
   "source": [
    "dir = \"\", \"user\", \"mydesk\", \"doc\"\n",
    "print(\"C:\"+\"\\\\\".join(dir))"
   ]
  },
  {
   "cell_type": "code",
   "execution_count": 14,
   "metadata": {},
   "outputs": [
    {
     "name": "stdout",
     "output_type": "stream",
     "text": [
      "this is my way\n",
      "This Is My Way\n",
      "theez eez my way\n"
     ]
    }
   ],
   "source": [
    "print(\"THIS IS MY WAY\".lower())\n",
    "print(\"this is my way\".title())\n",
    "print(\"this is my way\".replace(\"is\",\"eez\"))"
   ]
  },
  {
   "cell_type": "code",
   "execution_count": 15,
   "metadata": {},
   "outputs": [
    {
     "name": "stdout",
     "output_type": "stream",
     "text": [
      "['C:', 'user', 'ethan', 'doc!']\n",
      "dasjkhdkashdkjsa\n"
     ]
    }
   ],
   "source": [
    "print(\"C:\\\\user\\\\ethan\\\\doc!\".split(\"\\\\\"))\n",
    "\n",
    "print(\"******$$$$$$$dasjkhdkashdkjsa&&&&&&\".strip(\"*$&\"))"
   ]
  },
  {
   "cell_type": "code",
   "execution_count": 16,
   "metadata": {},
   "outputs": [
    {
     "name": "stdout",
     "output_type": "stream",
     "text": [
      "thiz iz kolor\n"
     ]
    }
   ],
   "source": [
    "table = str.maketrans(\"cs\", \"kz\")\n",
    "print(\"this is color\".translate(table))"
   ]
  },
  {
   "cell_type": "markdown",
   "metadata": {},
   "source": [
    "下面开始字典部分的基础用法实例"
   ]
  },
  {
   "cell_type": "code",
   "execution_count": 18,
   "metadata": {},
   "outputs": [
    {
     "name": "stdout",
     "output_type": "stream",
     "text": [
      "{'name': 'Alice', 'age': 20}\n",
      "{'name': 'Alice', 'age': 20}\n"
     ]
    }
   ],
   "source": [
    "info = [(\"name\",\"Alice\"), (\"age\",20)]\n",
    "infor = dict(info)\n",
    "infor1 = dict(name=\"Alice\", age=20) #这里的name和age不能用引号，表示的是实参\n",
    "print(infor)\n",
    "print(infor1)"
   ]
  },
  {
   "cell_type": "code",
   "execution_count": 19,
   "metadata": {},
   "outputs": [
    {
     "name": "stdout",
     "output_type": "stream",
     "text": [
      "my name is Alice, and my age is 20\n"
     ]
    }
   ],
   "source": [
    "info = {\"name\":\"Alice\", \"age\":20}\n",
    "print(\"my name is {name}, and my age is {age}\".format_map(info)) #特殊的针对"
   ]
  },
  {
   "cell_type": "code",
   "execution_count": 20,
   "metadata": {},
   "outputs": [
    {
     "name": "stdout",
     "output_type": "stream",
     "text": [
      "{'name': 'johj', 'machine': ['win', 'macos', 'linux', 'centos']}\n",
      "{'name': 'ALICE', 'machine': ['win', 'macos', 'linux', 'centos']}\n",
      "{'name': 'johj', 'machine': ['win', 'macos', 'linux', 'centos']}\n",
      "{'name': 'mary', 'machine': ['win', 'macos', 'linux', 'centos']}\n"
     ]
    }
   ],
   "source": [
    "info = {\"name\":\"ALICE\",\"machine\":[\"win\", \"macos\", \"linux\"]}\n",
    "info1 = info.copy()\n",
    "info2 = info\n",
    "info[\"name\"] = \"johj\" #这是替换值 而不是原地修改 copy复制后只有原地修改才会使得双方都发生改变 但如果是直接赋值，即info2 = info，怎么改变都是双方都发生改变\n",
    "info1[\"machine\"].append(\"centos\") #append就是原地修改的结果\n",
    "info3 = deepcopy(info) #deepcopy是深复制，这样的复制效果就是互不影响的\n",
    "info3[\"name\"] = \"mary\"\n",
    "print(info)\n",
    "print(info1)\n",
    "print(info2)\n",
    "print(info3) "
   ]
  },
  {
   "cell_type": "code",
   "execution_count": 22,
   "metadata": {},
   "outputs": [
    {
     "name": "stdout",
     "output_type": "stream",
     "text": [
      "{'name': 'novalue', 'age': 'novalue'}\n"
     ]
    }
   ],
   "source": [
    "print(dict.fromkeys([\"name\", \"age\"],\"novalue\")) #创建指定键的项 直接可以不取变量名 用dict即可"
   ]
  },
  {
   "cell_type": "code",
   "execution_count": 24,
   "metadata": {},
   "outputs": [
    {
     "name": "stdout",
     "output_type": "stream",
     "text": [
      "NoItem\n",
      "NoValue\n",
      "{'name': 'Alice', 'age': 20, 'gender': 'NoValue'}\n"
     ]
    }
   ],
   "source": [
    "#get同样重要 防止代码出错\n",
    "d = {\"name\":\"Alice\",\"age\":20}\n",
    "print(d.get(\"keys\",\"NoItem\"))\n",
    "#setdefault和get类似，但不同的是setdefault会增加原来没有的项\n",
    "d = {\"name\":\"Alice\",\"age\":20}\n",
    "print(d.setdefault(\"gender\",\"NoValue\"))\n",
    "print(d)"
   ]
  },
  {
   "cell_type": "markdown",
   "metadata": {},
   "source": [
    "items keys values出现了一个很重要的概念，就是字典视图，它可以当成列表一样使用列表的方法，但仍然不是列表"
   ]
  },
  {
   "cell_type": "code",
   "execution_count": 26,
   "metadata": {},
   "outputs": [
    {
     "name": "stdout",
     "output_type": "stream",
     "text": [
      "2\n",
      "dict_values(['Alice', 20])\n"
     ]
    }
   ],
   "source": [
    "\n",
    "d = {\"name\":\"Alice\",\"age\":20}\n",
    "ditems = d.items()\n",
    "print(len(list(ditems)))\n",
    "print(d.values())\n"
   ]
  },
  {
   "cell_type": "code",
   "execution_count": 27,
   "metadata": {},
   "outputs": [
    {
     "name": "stdout",
     "output_type": "stream",
     "text": [
      "{'name': 'Alice', 'age': 21}\n"
     ]
    }
   ],
   "source": [
    "d = {\"name\":\"Alice\",\"age\":20}\n",
    "d_new = {\"age\":21}\n",
    "d.update(d_new)\n",
    "print(d)"
   ]
  },
  {
   "cell_type": "markdown",
   "metadata": {},
   "source": [
    "下面是print和import的用法"
   ]
  },
  {
   "cell_type": "code",
   "execution_count": 28,
   "metadata": {},
   "outputs": [
    {
     "name": "stdout",
     "output_type": "stream",
     "text": [
      "dnjsajd  dsjkhf kljfdl\n",
      "dnjsajd- dsjkhf kljfdl\n",
      "dnjsajd-dsjkhf-kljfdl\n",
      "dnjsajddsjkhf\n"
     ]
    }
   ],
   "source": [
    "value = \"dnjsajd\"\n",
    "value1 = \"dsjkhf\"\n",
    "value2 = \"kljfdl\"\n",
    "print(value, \"\", value1, value2) #默认输出多项时有空格\n",
    "print(value+\"-\", value1, value2) #使用字符串相加就可以实现无空格间隔输出\n",
    "print(value, value1, value2, sep=\"-\") #改变默认间隔字符\n",
    "print(value, end=\"\") #两行输出时本来是换行符为默认间隔字符，此处也可以改成其他字符\n",
    "print(value1)"
   ]
  },
  {
   "cell_type": "markdown",
   "metadata": {},
   "source": [
    "from somemodule import function as fction 默认模块和函数加载\n"
   ]
  },
  {
   "cell_type": "markdown",
   "metadata": {},
   "source": [
    "序列解包："
   ]
  },
  {
   "cell_type": "code",
   "execution_count": 29,
   "metadata": {},
   "outputs": [
    {
     "name": "stdout",
     "output_type": "stream",
     "text": [
      "1 2 3\n",
      "age 20\n"
     ]
    }
   ],
   "source": [
    "x, y, z =1, 2, 3\n",
    "print(x, y, z)\n",
    "\n",
    "dictonary = {\"name\":\"Alice\", \"age\":20}\n",
    "x, y = dictonary.popitem()\n",
    "print(x,y)"
   ]
  },
  {
   "cell_type": "code",
   "execution_count": 30,
   "metadata": {},
   "outputs": [
    {
     "name": "stdout",
     "output_type": "stream",
     "text": [
      "[3, 4]\n",
      "x ['y'] z\n"
     ]
    }
   ],
   "source": [
    "a, b, *rest = [1, 2, 3, 4]\n",
    "print(rest) #这种赋值的方法可称为序列解包 同时tuple和string也可 但使用*时赋值得到的一定是一个序列 例如以下一个例子\n",
    "x, *y, z = \"xyz\"\n",
    "print(x,y,z) #此时Y输出的结果是包含一个字符的list"
   ]
  },
  {
   "cell_type": "markdown",
   "metadata": {},
   "source": [
    "同时还有增加赋值和链式赋值 此部分在C和C++代码中有体现\n",
    "\n",
    "值得说明的是，在Python中包括普通的false None作为bool型0的输入，\"\" [] () {}这几个空数据结构都可以作为false的输入"
   ]
  },
  {
   "cell_type": "code",
   "execution_count": 31,
   "metadata": {},
   "outputs": [
    {
     "name": "stdout",
     "output_type": "stream",
     "text": [
      "True\n"
     ]
    }
   ],
   "source": [
    "#前面的转换函数包括list tuple dict bool型同样有自己的转换函数\n",
    "print(bool(\"dsjadlkas\"))"
   ]
  },
  {
   "cell_type": "markdown",
   "metadata": {},
   "source": [
    "常见语法说明："
   ]
  },
  {
   "cell_type": "code",
   "execution_count": 32,
   "metadata": {},
   "outputs": [
    {
     "name": "stdout",
     "output_type": "stream",
     "text": [
      "Hello! Stranger\n"
     ]
    }
   ],
   "source": [
    "name = input(\"Input your name:\")\n",
    "if name.endswith(\"Gumby\"):\n",
    "    print(\"Hello! Gumby\")\n",
    "else:\n",
    "    print(\"Hello! Stranger\")"
   ]
  },
  {
   "cell_type": "code",
   "execution_count": 34,
   "metadata": {},
   "outputs": [
    {
     "name": "stdout",
     "output_type": "stream",
     "text": [
      "stranger\n"
     ]
    }
   ],
   "source": [
    "name = input(\"Input your name:\")\n",
    "callname = \"friend\" if name.endswith(\"Gumby\") else \"stranger\" #作为三元运算符和C中的 A？B：C一致\n",
    "print(callname)"
   ]
  },
  {
   "cell_type": "code",
   "execution_count": 35,
   "metadata": {},
   "outputs": [
    {
     "name": "stdout",
     "output_type": "stream",
     "text": [
      "Hello! Stranger\n"
     ]
    }
   ],
   "source": [
    "name = input(\"Input your name:\")\n",
    "if name.endswith(\"Gumby\"):\n",
    "   print(\"Hello! Gumby\")\n",
    "elif name.endswith(\"Jacky\"):\n",
    "   print(\"Hello! Jacky\")\n",
    "else:\n",
    "   print(\"Hello! Stranger\")"
   ]
  },
  {
   "cell_type": "code",
   "execution_count": 36,
   "metadata": {},
   "outputs": [
    {
     "name": "stdout",
     "output_type": "stream",
     "text": [
      "True\n",
      "True\n",
      "False\n"
     ]
    },
    {
     "name": "stderr",
     "output_type": "stream",
     "text": [
      "<>:3: SyntaxWarning: \"is\" with a literal. Did you mean \"==\"?\n",
      "<>:3: SyntaxWarning: \"is\" with a literal. Did you mean \"==\"?\n",
      "C:\\Users\\10376\\AppData\\Local\\Temp\\ipykernel_15560\\414859.py:3: SyntaxWarning: \"is\" with a literal. Did you mean \"==\"?\n",
      "  print(\"hin\" is \"hin\")\n"
     ]
    }
   ],
   "source": [
    "# 关于if的判断机制，有几点需要补充说明的：\n",
    "# 第一点是比较运算符，总的来说有> < == >= <= 多种比较形式，但相较于C等 python还多出几种：\n",
    "print(\"hin\" is \"hin\")\n",
    "a = b = [1,2,3]\n",
    "c = [1,2,3]\n",
    "print(a == c)\n",
    "print(a is c) #此处可看出两者的区别，is代表的是两个对象是不是同一个 并不是相等即可\n",
    "# 比较运算符还包括 in 结合not可有 is not和 not in两种比较运算符"
   ]
  },
  {
   "cell_type": "code",
   "execution_count": 37,
   "metadata": {},
   "outputs": [
    {
     "name": "stdout",
     "output_type": "stream",
     "text": [
      "False\n",
      "True\n"
     ]
    }
   ],
   "source": [
    "#比较相同类型的值时，数据结构的比较规则和C比较类似，也是比较字典序的大小，如\n",
    "print(\"a\"<\"B\")\n",
    "print(\"a\".lower()<\"B\".lower())\n"
   ]
  },
  {
   "cell_type": "code",
   "execution_count": 38,
   "metadata": {},
   "outputs": [
    {
     "name": "stdout",
     "output_type": "stream",
     "text": [
      "32\n",
      "𠖫\n"
     ]
    }
   ],
   "source": [
    "#此处介绍两个常用的函数\n",
    "print(ord(\" \"))\n",
    "print(chr(132523)) #输出了一个我也不知道是啥的字"
   ]
  },
  {
   "cell_type": "code",
   "execution_count": 39,
   "metadata": {},
   "outputs": [
    {
     "name": "stdout",
     "output_type": "stream",
     "text": [
      "correct\n",
      "correct\n"
     ]
    }
   ],
   "source": [
    "#第二点是bool运算符，比较运算符的输出结果是一个Bool型值，而bool运算符本身即是以bool型变量作为运算符输入的内容\n",
    "if(1<10 and 10>1):\n",
    "    print('correct')\n",
    "if(not 0):\n",
    "    print('correct')\n",
    "if(10<1 or 10>10):\n",
    "    print('wrong')\n",
    "# 还需要说明一点：bool运算符带有短路逻辑的特点，也即如果前一个判断不对不符合条件，他是不会看后面一半的 这在一些算法的代码中有所体现"
   ]
  },
  {
   "cell_type": "code",
   "execution_count": 40,
   "metadata": {},
   "outputs": [
    {
     "ename": "AssertionError",
     "evalue": "age is a positive integer",
     "output_type": "error",
     "traceback": [
      "\u001b[1;31m---------------------------------------------------------------------------\u001b[0m",
      "\u001b[1;31mAssertionError\u001b[0m                            Traceback (most recent call last)",
      "\u001b[1;32md:\\code\\MPI rec\\bookcode.ipynb 单元格 43\u001b[0m line \u001b[0;36m3\n\u001b[0;32m      <a href='vscode-notebook-cell:/d%3A/code/MPI%20rec/bookcode.ipynb#Y112sZmlsZQ%3D%3D?line=0'>1</a>\u001b[0m \u001b[39m## 有一个和if书写语法很类似的是assert 当代码中有一些必不可少的条件需要满足时 希望当条件不满足时代码即时崩溃，这比之后运行后某时崩溃要好得多，assert之后可以加上特定的报错情况\u001b[39;00m\n\u001b[0;32m      <a href='vscode-notebook-cell:/d%3A/code/MPI%20rec/bookcode.ipynb#Y112sZmlsZQ%3D%3D?line=1'>2</a>\u001b[0m age \u001b[39m=\u001b[39m \u001b[39m-\u001b[39m\u001b[39m1\u001b[39m\n\u001b[1;32m----> <a href='vscode-notebook-cell:/d%3A/code/MPI%20rec/bookcode.ipynb#Y112sZmlsZQ%3D%3D?line=2'>3</a>\u001b[0m \u001b[39massert\u001b[39;00m \u001b[39m-\u001b[39m\u001b[39m1\u001b[39m \u001b[39m<\u001b[39m age \u001b[39m<\u001b[39m \u001b[39m100\u001b[39m, \u001b[39m\"\u001b[39m\u001b[39mage is a positive integer\u001b[39m\u001b[39m\"\u001b[39m\n",
      "\u001b[1;31mAssertionError\u001b[0m: age is a positive integer"
     ]
    }
   ],
   "source": [
    "## 有一个和if书写语法很类似的是assert 当代码中有一些必不可少的条件需要满足时 希望当条件不满足时代码即时崩溃，这比之后运行后某时崩溃要好得多，assert之后可以加上特定的报错情况\n",
    "age = -1\n",
    "assert -1 < age < 100, \"age is a positive integer\""
   ]
  },
  {
   "cell_type": "code",
   "execution_count": 41,
   "metadata": {},
   "outputs": [
    {
     "name": "stdout",
     "output_type": "stream",
     "text": [
      "Hello, xiang\n"
     ]
    }
   ],
   "source": [
    "# 循环的使用可以用一个输入名字的来进行\n",
    "name = \"\"\n",
    "while not name or name.isspace():\n",
    "    name = input(\"Please input your name:\")\n",
    "print(f\"Hello, {name}\")"
   ]
  },
  {
   "cell_type": "code",
   "execution_count": 42,
   "metadata": {},
   "outputs": [
    {
     "name": "stdout",
     "output_type": "stream",
     "text": [
      "range(0, 10)\n",
      "e\n",
      "t\n",
      "h\n",
      "a\n",
      "n\n",
      " \n",
      "x\n",
      "i\n",
      "a\n",
      "n\n",
      "g\n",
      "e\n",
      "t\n",
      "h\n",
      "a\n",
      "n\n",
      " \n",
      "x\n",
      "i\n",
      "a\n",
      "n\n",
      "g\n"
     ]
    }
   ],
   "source": [
    "# 当存在可迭代对象的循环时，经常使用的循环语句是for\n",
    "print(range(0,10)) #range(0,10)只能输出range(0,10) 类似一个遍历结果 但最终如果需要输出列表 还需进行转换 range(10)默认是从0-9\n",
    "name = \"ethan xiang\"\n",
    "for name_a in name:\n",
    "    print(name_a)\n",
    "name = \"ethan xiang\"\n",
    "for name_a in range(len(name)):\n",
    "    print(name[name_a])"
   ]
  },
  {
   "cell_type": "code",
   "execution_count": 43,
   "metadata": {},
   "outputs": [
    {
     "name": "stdout",
     "output_type": "stream",
     "text": [
      "name xiang\n",
      "gender man\n"
     ]
    }
   ],
   "source": [
    "#如果是字典 可以使用items或者指定要key or value\n",
    "infor = {\"name\":\"xiang\", \"gender\":\"man\"}\n",
    "for key, value in infor.items():\n",
    "    print(key, value)"
   ]
  },
  {
   "cell_type": "code",
   "execution_count": 44,
   "metadata": {},
   "outputs": [
    {
     "name": "stdout",
     "output_type": "stream",
     "text": [
      "<zip object at 0x0000023E4614EEC0>\n",
      "[('name', 1), ('xiang', 2), ('gender', 3), ('man', 4)]\n"
     ]
    }
   ],
   "source": [
    "info = [\"name\", \"xiang\", \"gender\", \"man\"]\n",
    "num = [1, 2, 3, 4, 5]\n",
    "print(zip(info, num)) #直接输出的不是一个序列\n",
    "print(list(zip(info, num))) #输出的是对应项结合成tuple的序列 即使是项数不同 也只会对齐到相同项  "
   ]
  },
  {
   "cell_type": "markdown",
   "metadata": {},
   "source": [
    "值得说明的是前面讲到的字典视图，和这里的zip 再加上刚才的range(10)之类的数据 虽然不直接是序列 但都可以调用序列相关的操作"
   ]
  },
  {
   "cell_type": "code",
   "execution_count": 51,
   "metadata": {},
   "outputs": [
    {
     "name": "stdout",
     "output_type": "stream",
     "text": [
      "haha\n",
      "haha\n",
      "haha\n",
      "haha\n",
      "fklfd\n",
      "mffss\n",
      "['dsakdhas', 'dsadffd', 'fklfd', 'mffss']\n"
     ]
    }
   ],
   "source": [
    "#一般来说 我们需要进行索引的情况下会这样写：\n",
    "strings = [\"dsakdhas\", \"dsadffd\", \"fklfd\", \"mffss\"]\n",
    "index = 0\n",
    "for string in strings:\n",
    "    if(\"a\" in string):\n",
    "        string = \"haha\" ##这里不能写string = ”index“ string只是改变了循环当中的string变量 \n",
    "        print(string) #这句可做一个检测\n",
    "    index += 1\n",
    "    print(string)\n",
    "print(strings)"
   ]
  },
  {
   "cell_type": "code",
   "execution_count": 53,
   "metadata": {},
   "outputs": [
    {
     "name": "stdout",
     "output_type": "stream",
     "text": [
      "dsakdhas\n",
      "dsadffd\n",
      "['haha', 'haha', 'fklfd', 'mffss']\n"
     ]
    }
   ],
   "source": [
    "#效率不高的版本\n",
    "strings = [\"dsakdhas\", \"dsadffd\", \"fklfd\", \"mffss\"]\n",
    "for index, string in enumerate(strings):\n",
    "    if \"a\" in string:\n",
    "        print(string)\n",
    "        strings[index] = \"haha\"\n",
    "print(strings)"
   ]
  },
  {
   "cell_type": "code",
   "execution_count": 54,
   "metadata": {},
   "outputs": [
    {
     "name": "stdout",
     "output_type": "stream",
     "text": [
      "[1, 2, 3, 4, 5]\n",
      "['d', 'd', 'f', 'h', 'h', 'j', 'j', 'k', 'k', 's']\n",
      "<reversed object at 0x0000023E45618670>\n",
      "['s', 'j', 'd', 'k', 'h', 'f', 'k', 'j', 'h', 'd']\n",
      "f+s+l+d+f+l+j\n"
     ]
    }
   ],
   "source": [
    "print(sorted([1, 3, 2, 5, 4]))\n",
    "print(sorted(\"dhjkfhkdjs\"))#这里的两次sorted在list提到是有原因的 因为输出的内容一定是list\n",
    "#值得说明的是后面的reversed 这里输出的不是list 但可以调用序列的方法\n",
    "print(reversed(\"dhjkfhkdjs\"))\n",
    "print(list(reversed(\"dhjkfhkdjs\")))\n",
    "print(\"+\".join(reversed(\"jlfdlsf\")))"
   ]
  },
  {
   "cell_type": "code",
   "execution_count": 55,
   "metadata": {},
   "outputs": [
    {
     "name": "stdout",
     "output_type": "stream",
     "text": [
      "my name is dslkdjs\n",
      "my name is dsa\n",
      "my name is d\n",
      "my name is dsa\n"
     ]
    }
   ],
   "source": [
    "#break和continue的功能不再赘述 写算法的人应该很熟悉\n",
    "#值得一说的是循环不停止的一个条件\n",
    "while True:\n",
    "    name = input(\"please input your name:\")\n",
    "    if not name.strip():  \n",
    "        break\n",
    "    print(\"my name is\",name)"
   ]
  },
  {
   "cell_type": "code",
   "execution_count": 50,
   "metadata": {},
   "outputs": [
    {
     "name": "stdout",
     "output_type": "stream",
     "text": [
      "[0, 1, 4, 9, 16, 25, 36, 49, 64, 81]\n",
      "[0, 9, 36, 81]\n"
     ]
    }
   ],
   "source": [
    "# 需要着重说明一下序列推导 同理也会有字典推导 但没有元组推导 元组推导会变成生成器\n",
    "print([x*x for x in range(10)]) #一定需要加上[]或者{} 不然输出的东西不是数据结构 是后面要说到的生成器\n",
    "print([x*x for x in range(10) if x%3==0])"
   ]
  },
  {
   "cell_type": "code",
   "execution_count": 56,
   "metadata": {},
   "outputs": [
    {
     "name": "stdout",
     "output_type": "stream",
     "text": [
      "['alice+alice', 'bernice+bernice', 'clarice+clarice']\n"
     ]
    }
   ],
   "source": [
    "#可以尝试编写一个时间复杂度为平方的名字匹配函数\n",
    "girls = [\"alice\", \"bernice\", \"clarice\"]\n",
    "boys = [\"alice\", \"bernice\", \"clarice\"]\n",
    "print([boy+\"+\"+girl for boy in boys for girl in girls if boy[0]==girl[0]])"
   ]
  },
  {
   "cell_type": "code",
   "execution_count": 57,
   "metadata": {},
   "outputs": [
    {
     "name": "stdout",
     "output_type": "stream",
     "text": [
      "['alice+adam', 'bernice+bob', 'clarice+clark']\n"
     ]
    }
   ],
   "source": [
    "##这样的代码时间复杂度并不理想 很好的一个改进方式可以使得时间复杂度从o(m*n)变成o(m+n)\n",
    "girls = [\"alice\", \"bernice\", \"clarice\"]\n",
    "boys = [\"bob\", \"clark\", \"adam\"]\n",
    "bestmatch = {}\n",
    "for boy in boys:\n",
    "    bestmatch.setdefault(boy[0],[]).append(boy)\n",
    "print([girl+\"+\"+match for girl in girls for match in bestmatch[girl[0]]])"
   ]
  },
  {
   "cell_type": "code",
   "execution_count": 58,
   "metadata": {},
   "outputs": [],
   "source": [
    "#pass在一些代码尚未写完的地方可以做一个填充 pass本身并不带有任何语义，比如下面的这个例子\n",
    "name = input(\"please input your name:\")\n",
    "if name==\"alice\":\n",
    "    print(\"hello alice\")\n",
    "elif name==\"bernice\":\n",
    "    pass\n",
    "else:\n",
    "    pass"
   ]
  },
  {
   "cell_type": "code",
   "execution_count": 59,
   "metadata": {},
   "outputs": [
    {
     "name": "stdout",
     "output_type": "stream",
     "text": [
      "dskda+dskda\n",
      "dskda\n",
      "dsfdf\n"
     ]
    }
   ],
   "source": [
    "#del的运算符非常好用 这里在list中其实已经有提及，他其实可以作为序列的整体删除操作\n",
    "#python代码中有这样的特性\n",
    "a = \"dskda\"\n",
    "b = a\n",
    "print(a,b,sep= \"+\")\n",
    "a = None\n",
    "print(b)\n",
    "b = None\n",
    "#当没有变量名称使用这个字符串常数时 python解释器会自动的释放这部分空间 称之为垃圾收集 但我们同样能用相同的思路用del来处理\n",
    "x = \"dsfdf\"\n",
    "y = x\n",
    "del(x)\n",
    "print(y)\n",
    "# del()只会删除当前的变量"
   ]
  },
  {
   "cell_type": "code",
   "execution_count": 71,
   "metadata": {},
   "outputs": [
    {
     "name": "stdout",
     "output_type": "stream",
     "text": [
      "1\n",
      "10.0\n",
      "4\n",
      "200\n"
     ]
    }
   ],
   "source": [
    "# exec()和eval()需要谨慎使用，它是将字符串中的表达式和语句执行出来 这在一些网络应用程序中是非常危险的 \n",
    "# 这里需要特别注意的是代码运行空间 否则会出现比较尴尬的错误 可以看下面这个例子\n",
    "# exec(\"sqrt = 1\")\n",
    "# sqrt(100) #'int' object is not callable 原因就是刚才的赋值将原来的函数名覆盖\n",
    "scope = {}\n",
    "exec(\"sqrt = 1\",scope)\n",
    "print(scope[\"sqrt\"])\n",
    "print(sqrt(100))\n",
    "# eval执行的是字符串中的表达式，所以在eval中我们可以设置一个读取表达式的函数，如下：\n",
    "print(eval(input(\"please input an expression:\")))\n",
    "scope = {}\n",
    "scope[\"x\"] = 10\n",
    "scope[\"y\"] = 20\n",
    "print(eval(\"x * y\",scope))\n",
    "#这么能做的前提是eval会返回表达式的值"
   ]
  }
 ],
 "metadata": {
  "kernelspec": {
   "display_name": "base",
   "language": "python",
   "name": "python3"
  },
  "language_info": {
   "codemirror_mode": {
    "name": "ipython",
    "version": 3
   },
   "file_extension": ".py",
   "mimetype": "text/x-python",
   "name": "python",
   "nbconvert_exporter": "python",
   "pygments_lexer": "ipython3",
   "version": "3.11.3"
  }
 },
 "nbformat": 4,
 "nbformat_minor": 2
}
