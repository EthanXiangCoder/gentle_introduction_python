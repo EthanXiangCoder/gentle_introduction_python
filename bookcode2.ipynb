{
 "cells": [
  {
   "cell_type": "code",
   "execution_count": 1,
   "metadata": {},
   "outputs": [],
   "source": [
    "from string import Template\n",
    "import math\n",
    "from math import e\n",
    "from random import choice\n",
    "from abc import ABC,abstractmethod\n",
    "from warnings import warn,filterwarnings \n",
    "import collections"
   ]
  },
  {
   "cell_type": "markdown",
   "metadata": {},
   "source": [
    "三种设置字符串的方式"
   ]
  },
  {
   "cell_type": "code",
   "execution_count": 2,
   "metadata": {},
   "outputs": [
    {
     "name": "stdout",
     "output_type": "stream",
     "text": [
      "hello xiang, my name is wei\n",
      "hello xiang,my name is wei\n",
      "the original e is 2.72\n",
      "hello wei,my name is xiang\n",
      "the math module defines the e is 2.718281828459045\n"
     ]
    }
   ],
   "source": [
    "value = (\"xiang\", \"wei\")\n",
    "sent = \"hello %s, my name is %s\"\n",
    "print(sent%value)\n",
    "\n",
    "sent = Template(\"hello $name1,my name is $name2\")\n",
    "print(sent.substitute(name1=\"xiang\", name2=\"wei\"))\n",
    "\n",
    "print(f\"the original e is {e:.2f}\")\n",
    "print(\"hello {1},my name is {0}\".format(\"xiang\",\"wei\"))\n",
    "\n",
    "print(\"the {mod.__name__} module defines the e is {mod.e}\".format(mod = math))"
   ]
  },
  {
   "cell_type": "markdown",
   "metadata": {},
   "source": [
    "字符串部分串接使用字符串的一个作业 输出一个价格表"
   ]
  },
  {
   "cell_type": "code",
   "execution_count": 3,
   "metadata": {},
   "outputs": [
    {
     "name": "stdout",
     "output_type": "stream",
     "text": [
      "===================================\n",
      "Fruit                         Price\n",
      "===================================\n",
      "Apple                          3.16\n",
      "-----------------------------------\n",
      "Orange                         2.65\n",
      "-----------------------------------\n",
      "Pinapple                       8.00\n",
      "===================================\n"
     ]
    }
   ],
   "source": [
    "total_width = 35\n",
    "forward_width = 10\n",
    "back_width = total_width-forward_width\n",
    "\n",
    "namecolumn = \"{{:{}}}{{:>{}}}\".format(forward_width,back_width)\n",
    "contentcolumn = \"{{:{}}}{{:>{}.2f}}\".format(forward_width,back_width)\n",
    "\n",
    "print(\"=\"*total_width)\n",
    "\n",
    "print(namecolumn.format(\"Fruit\",\"Price\"))\n",
    "\n",
    "print(\"=\"*total_width)\n",
    "\n",
    "print(contentcolumn.format(\"Apple\",3.1564522))\n",
    "print(\"-\"*total_width)\n",
    "\n",
    "print(contentcolumn.format(\"Orange\",2.64564))\n",
    "print(\"-\"*total_width)\n",
    "\n",
    "print(contentcolumn.format(\"Pinapple\",8.0))\n",
    "print(\"=\"*total_width)"
   ]
  },
  {
   "cell_type": "code",
   "execution_count": 4,
   "metadata": {},
   "outputs": [
    {
     "name": "stdout",
     "output_type": "stream",
     "text": [
      "['aley+alice', 'bob+brown', 'clark+cray']\n"
     ]
    }
   ],
   "source": [
    "#这里写一下简单推理的一个例子\n",
    "#比较简单的代码例子如下：\n",
    "boys = [\"aley\", \"bob\", \"clark\"]\n",
    "girls = [\"alice\", \"brown\", \"cray\"]\n",
    "print([b+\"+\"+g for b in boys for g in girls if b[0]==g[0]])"
   ]
  },
  {
   "cell_type": "code",
   "execution_count": 5,
   "metadata": {},
   "outputs": [
    {
     "name": "stdout",
     "output_type": "stream",
     "text": [
      "['aley+alice', 'bob+brown', 'clark+cray']\n"
     ]
    }
   ],
   "source": [
    "#比较有效率的寻找方法就是设置一个信使\n",
    "boys = [\"aley\", \"bob\", \"clark\"]\n",
    "girls = [\"alice\", \"brown\", \"cray\"]\n",
    "girlletters = {}\n",
    "for g in girls:\n",
    "    girlletters.setdefault(g[0],[]).append(g)\n",
    "print([b+\"+\"+gi for b in boys for gi in girlletters[b[0]] ])"
   ]
  },
  {
   "cell_type": "code",
   "execution_count": 6,
   "metadata": {},
   "outputs": [
    {
     "name": "stdout",
     "output_type": "stream",
     "text": [
      "False True\n"
     ]
    }
   ],
   "source": [
    "#判断一个变量是不是可调用的\n",
    "x = 1\n",
    "y = math.sqrt #注意这里不能写math.sqrt() 这样就是调用函数了\n",
    "print(callable(x),callable(y))\n"
   ]
  },
  {
   "cell_type": "code",
   "execution_count": 7,
   "metadata": {},
   "outputs": [
    {
     "name": "stdout",
     "output_type": "stream",
     "text": [
      "calculate the sqrt of x\n"
     ]
    }
   ],
   "source": [
    "def calculate(x):\n",
    "    \"calculate the sqrt of x\"   #文档字符串 对函数做出申明\n",
    "    return x**2\n",
    "\n",
    "print(calculate.__doc__)  #可调用__doc__看到文档字符串的内容"
   ]
  },
  {
   "cell_type": "markdown",
   "metadata": {},
   "source": [
    "这里需要再次强调，字符串和元组是一样的，原则上不调用方法是不可更改的\n",
    "这里用几段代码说明一下函数调用时实参和形参是怎么相互影响的"
   ]
  },
  {
   "cell_type": "code",
   "execution_count": 9,
   "metadata": {},
   "outputs": [
    {
     "name": "stdout",
     "output_type": "stream",
     "text": [
      "alice\n",
      "alice\n",
      "['dddd', 'bbbb', 'cccc']\n",
      "['dddd', 'bbbb', 'cccc']\n"
     ]
    }
   ],
   "source": [
    "string = \"alice\"\n",
    "def change(x):\n",
    "    x = \"aaaa\"\n",
    "    return\n",
    "change(string)\n",
    "print(string) #还是会输出alice 因为这个函数调用和下面的代码是一样的:\n",
    "\n",
    "string = \"alice\"\n",
    "x = string\n",
    "x = \"aaaa\"\n",
    "print(string)\n",
    "\n",
    "#但如果是一个可循环的对象且只更改部分时会出现不同\n",
    "strings = [\"aaaa\",\"bbbb\",\"cccc\"]\n",
    "def change(x):\n",
    "    x[0] = \"dddd\"\n",
    "change(strings)\n",
    "print(strings) #会输出\"dddd\" 原因不多说了前面说过： 等同于下面这个\n",
    "\n",
    "string = [\"aaaa\",\"bbbb\",\"cccc\"]\n",
    "x = string\n",
    "x[0] = \"dddd\"\n",
    "print(string)"
   ]
  },
  {
   "cell_type": "code",
   "execution_count": 11,
   "metadata": {},
   "outputs": [
    {
     "name": "stdout",
     "output_type": "stream",
     "text": [
      "['Michael B Jordan']\n"
     ]
    }
   ],
   "source": [
    "#如果我想实现一个给定名字中的部分信息，就能从数据库中查找所有的相关人名的算法 我一定是通过字典实现\n",
    "storge = {}\n",
    "storge[\"first\"] = {}\n",
    "storge[\"second\"] = {}\n",
    "storge[\"third\"] = {}\n",
    "\n",
    "name1 = \"Michael B Jordan\"\n",
    "nameparts = name1.split()\n",
    "storge[\"first\"].setdefault(nameparts[0],[]).append(name1)\n",
    "storge[\"second\"].setdefault(nameparts[1],[]).append(name1)\n",
    "storge[\"third\"].setdefault(nameparts[2],[]).append(name1)\n",
    "print(storge[\"second\"][\"B\"])  #这样的编写效率难免低下 \n"
   ]
  },
  {
   "cell_type": "markdown",
   "metadata": {},
   "source": [
    "因此提出使用三个函数进行改进 隐藏实现细节:"
   ]
  },
  {
   "cell_type": "code",
   "execution_count": 12,
   "metadata": {},
   "outputs": [
    {
     "name": "stdout",
     "output_type": "stream",
     "text": [
      "['Michael B Jordan', 'Michael Jordan']\n"
     ]
    }
   ],
   "source": [
    "storge = {}\n",
    "\n",
    "def init(data):\n",
    "    data[\"first\"] = {}\n",
    "    data[\"second\"] = {}\n",
    "    data[\"third\"] = {}\n",
    "\n",
    "init(storge)\n",
    "\n",
    "def search(data,label,namepart):\n",
    "    return data[label].get(namepart)\n",
    "\n",
    "def save(data,name):\n",
    "    namelists = name.split()\n",
    "    if len(namelists)==2:\n",
    "        namelists.insert(1,\" \")\n",
    "    parts = [\"first\",\"second\",\"third\"]\n",
    "    for part,namelist in zip(parts,namelists):\n",
    "        now = search(data,part,namelist)\n",
    "        if now:\n",
    "            data[part][namelist].append(name)\n",
    "        else:\n",
    "            data[part][namelist] = [name]\n",
    "\n",
    "save(storge,\"Michael B Jordan\")\n",
    "save(storge,\"Michael Jordan\")\n",
    "\n",
    "print(search(storge,\"first\",\"Michael\"))"
   ]
  },
  {
   "cell_type": "markdown",
   "metadata": {},
   "source": [
    "下面也是一个很重要的部分，就是关键字参数和默认值"
   ]
  },
  {
   "cell_type": "code",
   "execution_count": 13,
   "metadata": {},
   "outputs": [
    {
     "name": "stdout",
     "output_type": "stream",
     "text": [
      "hello xiang,this is ethan\n",
      "hello xiang,this is ethan\n"
     ]
    }
   ],
   "source": [
    "#下面两个代码比较接近是非常出错的：\n",
    "def print1(str1,str2):\n",
    "    print(\"hello {},this is {}\".format(str1,str2))\n",
    "def print2(str1,str2):\n",
    "    print(\"hello {},this is {}\".format(str2,str1)) #如果程序比较大 这两个相近的代码十分容易出错，因此我们使用关键词参数来调用，这时就不需要管参数顺序了:\n",
    "\n",
    "print1(str1 = \"xiang\",str2 = \"ethan\")\n",
    "print2(str2 = \"xiang\",str1 = \"ethan\")\n"
   ]
  },
  {
   "cell_type": "markdown",
   "metadata": {},
   "source": [
    "同时关键字参数还有一个非常好的用法 就是指定默认值 并且可以任意修改默认值的个数"
   ]
  },
  {
   "cell_type": "code",
   "execution_count": 14,
   "metadata": {},
   "outputs": [
    {
     "name": "stdout",
     "output_type": "stream",
     "text": [
      "hello alice, this is xiang\n",
      "hello ethan, this is xiang\n",
      "hello clai, this is dsjdasd\n"
     ]
    }
   ],
   "source": [
    "def print3(str1 = \"ethan\", str2 = \"xiang\"):\n",
    "    print(\"hello {}, this is {}\".format(str1, str2))\n",
    "\n",
    "print3(\"alice\") #值得说明的是 如果你只喂入一个参数 那么会默认读入第一个形参中 如果想输入的实参是喂入的第二个或者其他位置的形参 就可以用关键字参数说明 \n",
    "#同时如果有多个参数 有一部分是给了默认值的话 那么函数调用的时候会优先给到没给默认值的形参\n",
    "print3()\n",
    "print3(\"clai\",\"dsjdasd\")"
   ]
  },
  {
   "cell_type": "markdown",
   "metadata": {},
   "source": [
    "收集和分配参数"
   ]
  },
  {
   "cell_type": "code",
   "execution_count": 15,
   "metadata": {},
   "outputs": [
    {
     "name": "stdout",
     "output_type": "stream",
     "text": [
      "('dshkdj',)\n",
      "dsdjs\n",
      "{}\n"
     ]
    }
   ],
   "source": [
    "#首先说明一个收集参数的写法 可以尝试一下下面的这段代码：\n",
    "def print1(*x):\n",
    "    print(x)\n",
    "\n",
    "print1(\"dshkdj\")  #这里会输出(\"dshkdj\",)即一个元组 其实就是 在函数定义的时候，前面加一个*号 会同时读入多个值，并将其存在一个tuple中 \n",
    "\n",
    "def print2(y,z, **x):\n",
    "    print(y)\n",
    "    print(x)\n",
    "\n",
    "print2(\"dsdjs\",\"jjjf\") #这里就会出错 因为前面加*的部分是不可以喂入关键字参数的，这里类似于一个key 和 value 对应的关系 #同时这里是不能将其命名为y的(当使用**的时候 会二次读入)"
   ]
  },
  {
   "cell_type": "code",
   "execution_count": 17,
   "metadata": {},
   "outputs": [
    {
     "name": "stdout",
     "output_type": "stream",
     "text": [
      "dsjf\n",
      "()\n",
      "ddd\n"
     ]
    }
   ],
   "source": [
    "#当我们想要输入一个关键字参数的时候 就需要用到和刚才比较接近的思想：用一个字典去存储 使用**去收集参数\n",
    "#下面说一个特殊的例子：\n",
    "def print3(x,*y,z):\n",
    "    print(x)\n",
    "    print(y)\n",
    "    print(z)\n",
    "\n",
    "#print3(\"dsjds\",\"dsjd\",\"ddd\")#像这样写是会直接报错的 当收集参数在中间时，因为代码不知道在哪里停下来 所以必须用关键字参数指定最后的参数\n",
    "print3(\"dsjf\",z= \"ddd\")"
   ]
  },
  {
   "cell_type": "markdown",
   "metadata": {},
   "source": [
    "接下来说分配参数 这里就有点类似前面说过的序列解包"
   ]
  },
  {
   "cell_type": "code",
   "execution_count": 18,
   "metadata": {},
   "outputs": [
    {
     "name": "stdout",
     "output_type": "stream",
     "text": [
      "fdfd\n",
      "ggg\n",
      "ddd\n",
      "sss\n"
     ]
    }
   ],
   "source": [
    "def print4(x, y):\n",
    "    print(x)\n",
    "    print(y)\n",
    "\n",
    "print4(*(\"fdfd\",\"ggg\")) #起到一个分配参数的作用\n",
    "#那么同理 如果要将一个字典分配到函数中使用 则可以通过**来完成\n",
    "dict1 = {\"x\":\"ddd\",\"y\":\"sss\"}\n",
    "print4(**dict1) #一定要注意这里的分配 如果我将value名命名为函数中不知道的key值 他将识别不了并报错"
   ]
  },
  {
   "cell_type": "code",
   "execution_count": 19,
   "metadata": {},
   "outputs": [
    {
     "name": "stdout",
     "output_type": "stream",
     "text": [
      "['Michael B Jordan', 'Michael Jordan']\n"
     ]
    }
   ],
   "source": [
    "#由此我们能改写之前的输入名字的代码\n",
    "storge = {}\n",
    "def init(data):\n",
    "    data[\"first\"] = {}\n",
    "    data[\"mid\"] = {}\n",
    "    data[\"last\"] = {}\n",
    "\n",
    "def search(data,part,partname):\n",
    "    return data[part].get(partname)\n",
    "\n",
    "def save(data,*names):\n",
    "    parts = [\"first\",\"mid\",\"last\"]\n",
    "    for name in names:\n",
    "        nameparts = name.split()\n",
    "        if len(nameparts)==2: nameparts.insert(1,\" \")\n",
    "        for namepart,part in zip(nameparts,parts):\n",
    "            key = search(data,part,namepart)\n",
    "            if key:\n",
    "                data[part][namepart].append(name)\n",
    "            else:\n",
    "                data[part][namepart] = [name]\n",
    "\n",
    "init(storge)\n",
    "save(storge,\"Michael B Jordan\",\"Michael Jordan\")\n",
    "print(search(storge,\"first\",\"Michael\"))"
   ]
  },
  {
   "cell_type": "markdown",
   "metadata": {},
   "source": [
    "命名空间的一些操作 主要就是全局变量的一些操作"
   ]
  },
  {
   "cell_type": "code",
   "execution_count": 21,
   "metadata": {},
   "outputs": [
    {
     "name": "stdout",
     "output_type": "stream",
     "text": [
      "1\n",
      "part send\n",
      "part sent\n"
     ]
    }
   ],
   "source": [
    "#在python中 声明的变量都是存在于一定的变量空间的 比如：\n",
    "x = 1\n",
    "y = vars()\n",
    "print(y[\"x\"]) #要注意这里的调用方式\n",
    "\n",
    "#现在比方说在代码里有这么一段：\n",
    "global_var = \"sent\"\n",
    "def print_v(part):\n",
    "    global_var = \"send\"\n",
    "    print(part,global_var)\n",
    "\n",
    "def print_v1(part):\n",
    "    global_var = \"send\"\n",
    "    print(part,globals()[\"global_var\"])\n",
    "\n",
    "print_v(\"part\") #一定会使用更小的空间内的变量 但这时如果改写一次代码\n",
    "print_v1(\"part\") #即可使用全局变量"
   ]
  },
  {
   "cell_type": "markdown",
   "metadata": {},
   "source": [
    "将函数当成变量的一些函数式编程"
   ]
  },
  {
   "cell_type": "code",
   "execution_count": 23,
   "metadata": {},
   "outputs": [
    {
     "name": "stdout",
     "output_type": "stream",
     "text": [
      "['0', '1', '2', '3', '4', '5', '6', '7', '8', '9']\n",
      "['0', '1', '2', '3', '4', '5', '6', '7', '8', '9']\n",
      "[0, 16, 64]\n"
     ]
    }
   ],
   "source": [
    "print([str(x) for x in range(10)])\n",
    "print(list(map(str,range(10)))) #两者类似 功能就是将函数变量施加到后面的序列或视图中\n",
    "\n",
    "def isOu(x):\n",
    "    return x%8==0 \n",
    "\n",
    "print(list(filter(isOu,[x*x for x in range(10)])))"
   ]
  },
  {
   "cell_type": "markdown",
   "metadata": {},
   "source": [
    "类的相关知识"
   ]
  },
  {
   "cell_type": "code",
   "execution_count": 24,
   "metadata": {},
   "outputs": [
    {
     "name": "stdout",
     "output_type": "stream",
     "text": [
      "1\n",
      "0\n",
      "1\n",
      "0\n",
      "1\n",
      "1\n",
      "2\n",
      "2\n"
     ]
    }
   ],
   "source": [
    "class MemberNum:\n",
    "    num = 0\n",
    "    def numchange(self):\n",
    "        self.num += 1\n",
    "\n",
    "m1 = MemberNum()\n",
    "m1.numchange()\n",
    "\n",
    "print(m1.num)\n",
    "print(MemberNum.num)\n",
    "\n",
    "m2 = MemberNum()\n",
    "m2.numchange()\n",
    "\n",
    "print(m2.num)\n",
    "print(MemberNum.num)\n",
    "\n",
    "class MemberNum1:\n",
    "    num = 0\n",
    "    def numchange(self):\n",
    "        MemberNum1.num += 1\n",
    "\n",
    "m1 = MemberNum1()\n",
    "m1.numchange()\n",
    "\n",
    "print(m1.num)\n",
    "print(MemberNum1.num)\n",
    "\n",
    "m2 = MemberNum1()\n",
    "m2.numchange()\n",
    "\n",
    "print(m2.num)\n",
    "print(MemberNum1.num)  #这几个例子是想说明类属性和实例属性之间的关系\n"
   ]
  },
  {
   "cell_type": "markdown",
   "metadata": {},
   "source": [
    "异常相关 异常实际上就是调用的异常类中的实例"
   ]
  },
  {
   "cell_type": "code",
   "execution_count": 25,
   "metadata": {},
   "outputs": [
    {
     "ename": "ValueError",
     "evalue": "",
     "output_type": "error",
     "traceback": [
      "\u001b[1;31m---------------------------------------------------------------------------\u001b[0m",
      "\u001b[1;31mValueError\u001b[0m                                Traceback (most recent call last)",
      "\u001b[1;32md:\\code\\MPI rec\\bookcode2.ipynb 单元格 32\u001b[0m line \u001b[0;36m4\n\u001b[0;32m      <a href='vscode-notebook-cell:/d%3A/code/MPI%20rec/bookcode2.ipynb#Y104sZmlsZQ%3D%3D?line=1'>2</a>\u001b[0m     \u001b[39m3\u001b[39m\u001b[39m/\u001b[39m\u001b[39m0\u001b[39m\n\u001b[0;32m      <a href='vscode-notebook-cell:/d%3A/code/MPI%20rec/bookcode2.ipynb#Y104sZmlsZQ%3D%3D?line=2'>3</a>\u001b[0m \u001b[39mexcept\u001b[39;00m \u001b[39mZeroDivisionError\u001b[39;00m:\n\u001b[1;32m----> <a href='vscode-notebook-cell:/d%3A/code/MPI%20rec/bookcode2.ipynb#Y104sZmlsZQ%3D%3D?line=3'>4</a>\u001b[0m     \u001b[39mraise\u001b[39;00m \u001b[39mValueError\u001b[39;00m \u001b[39mfrom\u001b[39;00m \u001b[39mNone\u001b[39;00m\n",
      "\u001b[1;31mValueError\u001b[0m: "
     ]
    }
   ],
   "source": [
    "try:\n",
    "    3/0\n",
    "except ZeroDivisionError:\n",
    "    raise ValueError from None"
   ]
  },
  {
   "cell_type": "code",
   "execution_count": 27,
   "metadata": {},
   "outputs": [
    {
     "name": "stdout",
     "output_type": "stream",
     "text": [
      "Error too!\n"
     ]
    }
   ],
   "source": [
    "#异常是可以写多个的\n",
    "try:\n",
    "    x = input(\"the number of x is: \")\n",
    "    y = input(\"the number of y is: \")\n",
    "    x/y\n",
    "except ZeroDivisionError:\n",
    "    print(\"Error!\")\n",
    "except TypeError:\n",
    "    print(\"Error too!\") #再次说明 这样的代码仅仅只是捕获异常 但并不是直接终止代码 所以还是需要raise来引发异常 如果不编写raise引发异常 函数会自动返回一个None值"
   ]
  },
  {
   "cell_type": "code",
   "execution_count": 28,
   "metadata": {},
   "outputs": [
    {
     "name": "stdout",
     "output_type": "stream",
     "text": [
      "Error!\n"
     ]
    }
   ],
   "source": [
    "try:\n",
    "    x = input(\"the number of x is: \")\n",
    "    y = input(\"the number of y is: \")\n",
    "    x/y\n",
    "except (ZeroDivisionError,TypeError,ValueError):\n",
    "    print(\"Error!\")   #也可以写成一个tuple 同时指定多个错误类型 或直接不写 这代表捕获exception下的所有派生错误\n"
   ]
  },
  {
   "cell_type": "code",
   "execution_count": 29,
   "metadata": {},
   "outputs": [
    {
     "name": "stdout",
     "output_type": "stream",
     "text": [
      "division by zero\n"
     ]
    }
   ],
   "source": [
    "while True:\n",
    "    try:\n",
    "        x = int(input(\"the number of x is: \"))\n",
    "        y = int(input(\"the number of y is: \"))\n",
    "        x/y\n",
    "    except Exception as e:\n",
    "        print(e)\n",
    "    else:\n",
    "        break    "
   ]
  },
  {
   "cell_type": "code",
   "execution_count": 31,
   "metadata": {},
   "outputs": [
    {
     "name": "stdout",
     "output_type": "stream",
     "text": [
      "something wrong\n"
     ]
    }
   ],
   "source": [
    "#最后在这类语句中还有一个finally 这个是在结束之后都会执行的 通常处理一些后处理场景\n",
    "x = None\n",
    "try:\n",
    "    x = 1/2\n",
    "finally:\n",
    "    del x\n",
    "    print(\"something wrong\")"
   ]
  },
  {
   "cell_type": "markdown",
   "metadata": {},
   "source": [
    "类部分经常用的属性和函数 "
   ]
  },
  {
   "cell_type": "code",
   "execution_count": 32,
   "metadata": {},
   "outputs": [
    {
     "name": "stdout",
     "output_type": "stream",
     "text": [
      "True\n",
      "False\n",
      "True\n",
      "True\n",
      "True\n",
      "{}\n",
      "{'age': 10}\n",
      "(<class '__main__.demo'>,)\n",
      "<class '__main__.demosample'>\n"
     ]
    }
   ],
   "source": [
    "class demo:\n",
    "    def init(self,innum=\"a\"):\n",
    "        self.data = innum\n",
    "    def showdemo(self):\n",
    "        print(self.data)\n",
    "\n",
    "class demosample(demo):\n",
    "    def __init__(self):\n",
    "        super().__init__\n",
    "\n",
    "print(issubclass(demosample,demo)) #True\n",
    "print(issubclass(demo,demosample)) #False\n",
    "\n",
    "d = demosample()\n",
    "print(isinstance(d,demosample)) #True\n",
    "print(isinstance(d,demo)) #True 由子类创建的实例也是超类的实例\n",
    "#isinstance甚至可以用在内置类型中\n",
    "stringa = \"string\"\n",
    "print(isinstance(stringa,str))\n",
    "\n",
    "print(d.__dict__) #输出某个实例的全部属性\n",
    "d.__dict__[\"age\"] = 10\n",
    "print(d.__dict__)  #可以直接像上面一样赋予实例的属性\n",
    "\n",
    "print(demosample.__bases__) #输出子类的超类 超类可以多重继承 可以有多个\n",
    "print(d.__class__) #输出实例的所属类\n"
   ]
  },
  {
   "cell_type": "markdown",
   "metadata": {},
   "source": [
    "先斩后奏 不显式编写接口 默认对象可以完成操作 \"存取方法\"\n",
    "这里我觉得需要说明的是和后面有关特征编写的部分联系起来\n",
    "一般的面向对象开发语言都会显示地编写类和函数接口以便代码当中使用 但python的逻辑是:我将类的实例赋值到函数的参数中进行使用 即使可能没有我想要的方法 但我默认他可以完成 如果不可以 则进行异常返回或者进行检查\n"
   ]
  },
  {
   "cell_type": "code",
   "execution_count": 33,
   "metadata": {},
   "outputs": [
    {
     "name": "stdout",
     "output_type": "stream",
     "text": [
      "True\n",
      "True\n",
      "10\n",
      "None\n",
      "20\n"
     ]
    }
   ],
   "source": [
    "#借用前面的类实现\n",
    "print(hasattr(d,\"age\")) #True 有没有某项方法或属性\n",
    "print(hasattr(d,\"showdemo\")) #True\n",
    "\n",
    "print(getattr(d,\"age\",None)) #10 输出指定属性的值\n",
    "print(getattr(d,\"height\",None)) #None 输出没有属性的值 如果没有则输出第三个参数 \n",
    "'''这里有一些区别的地方在于:特征部分的__getattr__只获取未有的值 并且__getattr__可以改写一定的情况'''\n",
    "\n",
    "setattr(d,\"age\",20)\n",
    "print(getattr(d,\"age\",None)) #20 发生修改"
   ]
  },
  {
   "cell_type": "markdown",
   "metadata": {},
   "source": [
    "抽象类\n"
   ]
  },
  {
   "cell_type": "code",
   "execution_count": 34,
   "metadata": {},
   "outputs": [],
   "source": [
    "#from abc import ABC,abstractmethod\n",
    "__metaclass__ = type\n",
    "class demoBase(ABC): #新式一般就写ABC即可 但python2.x的早期代码中一般创建新类时会在开头写上一句上面一行的代码 同时在超类这里写成 metaclass=ABCMeta\n",
    "    @abstractmethod  \n",
    "    def __init__(self):\n",
    "        super().__init__()\n",
    "#抽象类一般的作用就是去制定书写格式"
   ]
  },
  {
   "cell_type": "markdown",
   "metadata": {},
   "source": [
    "下面再说一个对超类的理解"
   ]
  },
  {
   "cell_type": "code",
   "execution_count": 35,
   "metadata": {},
   "outputs": [
    {
     "data": {
      "text/plain": [
       "'这样处理使得chicken也成为bird的子类 但最大的问题就是 此时isinstance 和 issubclass并不能检测chicken的一些细节问题 会直接返回True 而两者的属性是不一样的'"
      ]
     },
     "execution_count": 35,
     "metadata": {},
     "output_type": "execute_result"
    }
   ],
   "source": [
    "class bird:\n",
    "    def fly(self):\n",
    "        self.canfly = True\n",
    "        print(\"i can fly\")\n",
    "\n",
    "class smallbird(bird):\n",
    "    pass\n",
    "\n",
    "class chicken:\n",
    "    def fly(self):\n",
    "        self.alsocanfly = True\n",
    "\n",
    "#bird.register(chicken) 直接使用register是不太可取的 AttributeError\n",
    "'''这样处理使得chicken也成为bird的子类 但最大的问题就是 此时isinstance 和 issubclass并不能检测chicken的一些细节问题 会直接返回True 而两者的属性是不一样的'''"
   ]
  },
  {
   "cell_type": "code",
   "execution_count": 36,
   "metadata": {},
   "outputs": [
    {
     "name": "stderr",
     "output_type": "stream",
     "text": [
      "C:\\Users\\10376\\AppData\\Local\\Temp\\ipykernel_9652\\1005065467.py:2: UserWarning: this is a warning\n",
      "  warn(\"this is a warning\")\n"
     ]
    },
    {
     "ename": "TypeError",
     "evalue": "category must be a Warning subclass, not 'type'",
     "output_type": "error",
     "traceback": [
      "\u001b[1;31m---------------------------------------------------------------------------\u001b[0m",
      "\u001b[1;31mTypeError\u001b[0m                                 Traceback (most recent call last)",
      "\u001b[1;32md:\\code\\MPI rec\\bookcode2.ipynb 单元格 45\u001b[0m line \u001b[0;36m6\n\u001b[0;32m      <a href='vscode-notebook-cell:/d%3A/code/MPI%20rec/bookcode2.ipynb#Y134sZmlsZQ%3D%3D?line=3'>4</a>\u001b[0m warn(\u001b[39m\"\u001b[39m\u001b[39mwe can ignore it\u001b[39m\u001b[39m\"\u001b[39m)\n\u001b[0;32m      <a href='vscode-notebook-cell:/d%3A/code/MPI%20rec/bookcode2.ipynb#Y134sZmlsZQ%3D%3D?line=4'>5</a>\u001b[0m filterwarnings(\u001b[39m'\u001b[39m\u001b[39merror\u001b[39m\u001b[39m'\u001b[39m) \u001b[39m#捕获异常就可以指定异常类型 并且报错\u001b[39;00m\n\u001b[1;32m----> <a href='vscode-notebook-cell:/d%3A/code/MPI%20rec/bookcode2.ipynb#Y134sZmlsZQ%3D%3D?line=5'>6</a>\u001b[0m warn(\u001b[39m\"\u001b[39m\u001b[39mwe need to solve it\u001b[39m\u001b[39m\"\u001b[39m,\u001b[39mTypeError\u001b[39;00m)\n",
      "\u001b[1;31mTypeError\u001b[0m: category must be a Warning subclass, not 'type'"
     ]
    }
   ],
   "source": [
    "#警告\n",
    "warn(\"this is a warning\")\n",
    "filterwarnings(\"ignore\") #两种警告模式 忽略就可以继续运行代码\n",
    "warn(\"we can ignore it\")\n",
    "filterwarnings('error') #捕获异常就可以指定异常类型 并且报错\n",
    "warn(\"we need to solve it\",TypeError)    \n"
   ]
  },
  {
   "cell_type": "markdown",
   "metadata": {},
   "source": [
    "重写构造函数的错误案例"
   ]
  },
  {
   "cell_type": "code",
   "execution_count": 38,
   "metadata": {},
   "outputs": [
    {
     "ename": "AttributeError",
     "evalue": "'demosample' object has no attribute 'caneat'",
     "output_type": "error",
     "traceback": [
      "\u001b[1;31m---------------------------------------------------------------------------\u001b[0m",
      "\u001b[1;31mAttributeError\u001b[0m                            Traceback (most recent call last)",
      "\u001b[1;32md:\\code\\MPI rec\\bookcode2.ipynb 单元格 47\u001b[0m line \u001b[0;36m1\n\u001b[0;32m     <a href='vscode-notebook-cell:/d%3A/code/MPI%20rec/bookcode2.ipynb#Y135sZmlsZQ%3D%3D?line=11'>12</a>\u001b[0m         \u001b[39mself\u001b[39m\u001b[39m.\u001b[39mdataset \u001b[39m=\u001b[39m data\n\u001b[0;32m     <a href='vscode-notebook-cell:/d%3A/code/MPI%20rec/bookcode2.ipynb#Y135sZmlsZQ%3D%3D?line=13'>14</a>\u001b[0m d \u001b[39m=\u001b[39m demosample(\u001b[39m\"\u001b[39m\u001b[39mhahah\u001b[39m\u001b[39m\"\u001b[39m)\n\u001b[1;32m---> <a href='vscode-notebook-cell:/d%3A/code/MPI%20rec/bookcode2.ipynb#Y135sZmlsZQ%3D%3D?line=14'>15</a>\u001b[0m \u001b[39mprint\u001b[39m(d\u001b[39m.\u001b[39mcaneat)\n",
      "\u001b[1;31mAttributeError\u001b[0m: 'demosample' object has no attribute 'caneat'"
     ]
    }
   ],
   "source": [
    "\n",
    "class demo:\n",
    "    def __init__(self): #__xxx__之类的都是特殊方法\n",
    "        self.caneat = True\n",
    "    def eat(self):\n",
    "        if self.caneat:\n",
    "            self.eating = False\n",
    "        else:\n",
    "            self.eating = False\n",
    "\n",
    "class demosample(demo):\n",
    "    def __init__(self,data):\n",
    "        self.dataset = data\n",
    "\n",
    "d = demosample(\"hahah\")\n",
    "print(d.caneat) #AttributeError 因为重写了构造函数 所以之前的属性也会丢失 因此需要一定的手段 即使在修改构造函数的时候 也能继承之前的一些属性"
   ]
  },
  {
   "cell_type": "markdown",
   "metadata": {},
   "source": [
    "针对这个情况 使用继承的方法解决"
   ]
  },
  {
   "cell_type": "code",
   "execution_count": 40,
   "metadata": {},
   "outputs": [
    {
     "name": "stdout",
     "output_type": "stream",
     "text": [
      "True\n"
     ]
    }
   ],
   "source": [
    "#使用未关联的超类构造函数 名字唬人一行代码 老代码中常见\n",
    "class demo:\n",
    "    def __init__(self):\n",
    "        self.caneat = True\n",
    "    def eat(self):\n",
    "        if self.caneat:\n",
    "            pass\n",
    "        else:\n",
    "            print(\"ahhh\")\n",
    "            self.caneat = True\n",
    "\n",
    "class demosample(demo):\n",
    "    def __init__(self):\n",
    "        demo.__init__(self)\n",
    "        self.canfly = True\n",
    "    pass\n",
    "\n",
    "d = demosample()\n",
    "print(d.caneat) #此时等于是继承了之前的init初始函数 即不会覆盖之前的Init函数"
   ]
  },
  {
   "cell_type": "code",
   "execution_count": 41,
   "metadata": {},
   "outputs": [
    {
     "name": "stdout",
     "output_type": "stream",
     "text": [
      "True\n"
     ]
    }
   ],
   "source": [
    "#super 重写构造函数\n",
    "class demo:\n",
    "    def __init__(self):\n",
    "        self.caneat = True\n",
    "    def eat(self):\n",
    "        if self.caneat:\n",
    "            pass\n",
    "        else:\n",
    "            print(\"aggg\")\n",
    "            self.caneat = False\n",
    "\n",
    "class demosample(demo):\n",
    "    def __init__(self):\n",
    "        super(demosample,self).__init__()\n",
    "        self.canfly = True\n",
    "\n",
    "d = demosample()\n",
    "print(d.caneat)"
   ]
  },
  {
   "cell_type": "markdown",
   "metadata": {},
   "source": [
    "#元素访问的第一部分 基本的序列协议（四种）代码：编写一个计数序列\n",
    "'''这里说明一下 Python中并不是只有视图、序列、字符串等可以在一个循环中进行元素遍历 而是符合序列协议的类实例都是可以的 所以我们只需要学习怎么编写协议 即可自行组建可以顺序遍历的变量'''\n",
    "#这四个方法不是都一定要实现 但当不实现时则不能进行相应的调用 注意都是特殊方法 所以直接可以简便使用 如果__len__没有编写则默认这个实例是无限长的"
   ]
  },
  {
   "cell_type": "code",
   "execution_count": 42,
   "metadata": {},
   "outputs": [
    {
     "name": "stdout",
     "output_type": "stream",
     "text": [
      "8\n",
      "11\n",
      "2\n"
     ]
    },
    {
     "data": {
      "text/plain": [
       "'del(l[2])'"
      ]
     },
     "execution_count": 42,
     "metadata": {},
     "output_type": "execute_result"
    }
   ],
   "source": [
    "class likelist:\n",
    "    def __init__(self,begin=0,step=2):\n",
    "        self.begin = begin\n",
    "        self.step = step\n",
    "        self.seq = {1:begin}\n",
    "        pass\n",
    "\n",
    "    def __len__(self):\n",
    "        return len(self.seq)\n",
    "    \n",
    "    def __getitem__(self,num):\n",
    "        if self.seq.get(num,None):\n",
    "            return self.seq[num]\n",
    "        else:\n",
    "            self.seq[num] = self.begin+self.step*(num-1)\n",
    "            return self.seq[num]\n",
    "    \n",
    "    def __setitem__(self,num,value):\n",
    "        self.seq[num] = value\n",
    "    '''最开始没有编写__delitem__函数'''\n",
    "\n",
    "l = likelist()\n",
    "print(l[5]) #8\n",
    "l[5] = 11\n",
    "print(l[5]) #11\n",
    "print(len(l)) #2\n",
    "'''del(l[2])''' #没编写__delitem__就会报错"
   ]
  },
  {
   "cell_type": "markdown",
   "metadata": {},
   "source": [
    "元素访问的第二部分，从collections模块或者内置类型继承获得超类方法定义 注意*args的用法，可以接收 这是对上面的扩展 特殊方法有很多 没办法全部进行改写 所以最好的方法是改写需要改写的 剩下的全部继承"
   ]
  },
  {
   "cell_type": "code",
   "execution_count": 44,
   "metadata": {},
   "outputs": [
    {
     "name": "stdout",
     "output_type": "stream",
     "text": [
      "0\n",
      "2\n",
      "ffff\n"
     ]
    }
   ],
   "source": [
    "class CounterList(list):\n",
    "    '''定义一个特殊的会数数的列表\n",
    "        未被定义的部分会自动继承\n",
    "    '''\n",
    "    def __init__(self,*args):\n",
    "        super().__init__(*args)\n",
    "        self.countnum = 0\n",
    "    def __getitem__(self,pos):\n",
    "        self.countnum += 1\n",
    "        return super(CounterList,self).__getitem__(pos)\n",
    "\n",
    "oric = \"dsdhsk\"\n",
    "c = CounterList(oric)\n",
    "del c[0]\n",
    "print(c.countnum)\n",
    "d = c[1]+c[2]\n",
    "print(c.countnum)\n",
    "\n",
    "class numd(ABC):\n",
    "    def __init__(self,data):\n",
    "        super(numd,self).__init__\n",
    "        self.method = data\n",
    "    def printn(self):\n",
    "        print(self.method)\n",
    "\n",
    "numdd = numd(\"dsds\")\n",
    "\n",
    "setattr(numdd,\"method\",\"ffff\")\n",
    "print(numdd.method)"
   ]
  },
  {
   "cell_type": "markdown",
   "metadata": {},
   "source": [
    "特性 为什么要引入特性的代码"
   ]
  },
  {
   "cell_type": "code",
   "execution_count": 45,
   "metadata": {},
   "outputs": [
    {
     "data": {
      "text/plain": [
       "'当我想要调取size信息的时候 我可以通过类中的方法来获取 但这样还是不方便 如果我们都重新设置一个属性 多次工作之后代码会显得冗长\\n   最重要的是 如果我有一天需要更改我的需求 将属性调整到size 而通过方法来获取和更改a和b时 代码需要修改非常多的内容\\n   因此引入特征\\n'"
      ]
     },
     "execution_count": 45,
     "metadata": {},
     "output_type": "execute_result"
    }
   ],
   "source": [
    "class Rectangle:\n",
    "    def __init__(self,a,b):\n",
    "        self.a = a\n",
    "        self.b = b\n",
    "    def returnsize(self):\n",
    "        return self.a,self.b\n",
    "    def setsize(self,value):\n",
    "        self.a,self.b = value\n",
    "\n",
    "'''当我想要调取size信息的时候 我可以通过类中的方法来获取 但这样还是不方便 如果我们都重新设置一个属性 多次工作之后代码会显得冗长\n",
    "   最重要的是 如果我有一天需要更改我的需求 将属性调整到size 而通过方法来获取和更改a和b时 代码需要修改非常多的内容\n",
    "   因此引入特征\n",
    "'''"
   ]
  },
  {
   "cell_type": "code",
   "execution_count": 46,
   "metadata": {},
   "outputs": [
    {
     "name": "stdout",
     "output_type": "stream",
     "text": [
      "3 4 (3, 4)\n"
     ]
    }
   ],
   "source": [
    "#property函数实现特性定义\n",
    "class Rectangle:\n",
    "    def __init__(self,a,b):\n",
    "        self.a = a\n",
    "        self.b = b\n",
    "    def returnsize(self):\n",
    "        return self.a,self.b\n",
    "    def setsize(self,value):\n",
    "        self.a,self.b = value\n",
    "    size = property(returnsize,setsize)\n",
    "\n",
    "r = Rectangle(3,4)\n",
    "print(r.a,r.b,r.size) #3，4，(3,4)"
   ]
  },
  {
   "cell_type": "markdown",
   "metadata": {},
   "source": [
    "装饰器(类方法 静态方法)"
   ]
  },
  {
   "cell_type": "code",
   "execution_count": 48,
   "metadata": {},
   "outputs": [
    {
     "name": "stdout",
     "output_type": "stream",
     "text": [
      "hell0\n",
      "my\n"
     ]
    }
   ],
   "source": [
    "\n",
    "class original:\n",
    "    def shout():\n",
    "        print(\"hell0\")\n",
    "    shout = staticmethod(shout)\n",
    "    def say(self):\n",
    "        print(\"my\")\n",
    "    say = classmethod(say)\n",
    "#这样定义的两种特殊方法也可以使用装饰器来编写\n",
    "class original:\n",
    "    @staticmethod\n",
    "    def shout():\n",
    "        print(\"hell0\")\n",
    "    \n",
    "    @classmethod\n",
    "    def say(cls):\n",
    "        print(\"my\")\n",
    "    say = classmethod(say)\n",
    "#静态方法和类方法都是可以不用实例化就调用的 静态方法中一般不会使用self 而类方法中一般会使用cls这个名字\n",
    "original.shout()\n",
    "original.say()"
   ]
  },
  {
   "cell_type": "code",
   "execution_count": 50,
   "metadata": {},
   "outputs": [
    {
     "name": "stdout",
     "output_type": "stream",
     "text": [
      "(10, 8)\n",
      "(20, 20)\n"
     ]
    }
   ],
   "source": [
    "#如果我直接使用__getattr__之类的方法 我可以对多种属性存取情况进行一定的处理 所以相较于property更为复杂 但更为灵活\n",
    "class Rectangle:\n",
    "    def __init__(self,a=10,b=8):\n",
    "        self.a = a\n",
    "        self.b = b\n",
    "    def __setattr__(self,name,value):\n",
    "        if name=='size':\n",
    "            self.a,self.b = value\n",
    "        else:\n",
    "            self.__dict__[name] = value\n",
    "    def __getattr__(self,name):\n",
    "        if name == 'size':\n",
    "            return self.a,self.b\n",
    "        else:\n",
    "            raise TypeError(\"this is an error\")\n",
    "        \n",
    "r = Rectangle()\n",
    "print(getattr(r,'size'))\n",
    "setattr(r,'size',(20,20))\n",
    "print(getattr(r,'size'))"
   ]
  },
  {
   "cell_type": "markdown",
   "metadata": {},
   "source": [
    "迭代器定义方法 迭代器的作用就是在一些情况下替代列表等 因为列表会一次读入所有的数据"
   ]
  },
  {
   "cell_type": "code",
   "execution_count": 51,
   "metadata": {},
   "outputs": [
    {
     "name": "stdout",
     "output_type": "stream",
     "text": [
      "1\n",
      "2\n",
      "3\n",
      "5\n",
      "8\n",
      "13\n",
      "21\n",
      "34\n",
      "55\n",
      "89\n"
     ]
    }
   ],
   "source": [
    "class listsample:\n",
    "    def __init__(self,a=0,b=1):\n",
    "        self.a = a\n",
    "        self.b = b\n",
    "        pass\n",
    "    '''只要存在__next__和__iter__这两个特殊方法的时候 这个类就是一个迭代器'''\n",
    "    def __next__(self):\n",
    "        self.a,self.b = self.b,(self.a+self.b)\n",
    "        #if not self.b>100:return self.b zh这句话不能起到暂停的作用\n",
    "        if self.b>100: raise StopIteration #这句很重要\n",
    "        return self.b\n",
    "    \n",
    "    def __iter__(self):\n",
    "        return self\n",
    "    \n",
    "l = listsample()\n",
    "print(next(l)) #1\n",
    "print(next(l)) #2\n",
    "#此时这个迭代器就可以被正常读取\n",
    "for i in l: #这里不写range()\n",
    "    print(i)"
   ]
  },
  {
   "cell_type": "code",
   "execution_count": 52,
   "metadata": {},
   "outputs": [
    {
     "name": "stdout",
     "output_type": "stream",
     "text": [
      "0\n",
      "2\n",
      "4\n",
      "6\n",
      "8\n",
      "10\n",
      "12\n",
      "14\n",
      "16\n",
      "18\n",
      "20\n",
      "22\n",
      "24\n",
      "26\n",
      "28\n",
      "30\n",
      "32\n",
      "34\n",
      "36\n",
      "38\n",
      "40\n",
      "42\n",
      "44\n",
      "46\n",
      "48\n",
      "50\n",
      "52\n",
      "54\n",
      "56\n",
      "58\n",
      "60\n",
      "62\n",
      "64\n",
      "66\n",
      "68\n",
      "70\n",
      "72\n",
      "74\n",
      "76\n",
      "78\n",
      "80\n",
      "82\n",
      "84\n",
      "86\n",
      "88\n",
      "90\n",
      "92\n",
      "94\n",
      "96\n",
      "98\n",
      "100\n",
      "102\n",
      "104\n",
      "106\n",
      "108\n",
      "110\n",
      "112\n",
      "114\n",
      "116\n",
      "118\n",
      "120\n",
      "122\n",
      "124\n",
      "126\n",
      "128\n",
      "130\n",
      "132\n",
      "134\n",
      "136\n",
      "138\n",
      "140\n",
      "142\n",
      "144\n",
      "146\n",
      "148\n",
      "150\n",
      "152\n",
      "154\n",
      "156\n",
      "158\n",
      "160\n",
      "162\n",
      "164\n",
      "166\n",
      "168\n",
      "170\n",
      "172\n",
      "174\n",
      "176\n",
      "178\n",
      "180\n",
      "182\n",
      "184\n",
      "186\n",
      "188\n",
      "190\n",
      "192\n",
      "194\n",
      "196\n",
      "198\n",
      "200\n",
      "202\n",
      "204\n",
      "206\n",
      "208\n",
      "210\n",
      "212\n",
      "214\n",
      "216\n",
      "218\n",
      "220\n",
      "222\n",
      "224\n",
      "226\n",
      "228\n",
      "230\n",
      "232\n",
      "234\n",
      "236\n",
      "238\n",
      "240\n",
      "242\n",
      "244\n",
      "246\n",
      "248\n",
      "250\n",
      "252\n",
      "254\n",
      "256\n",
      "258\n",
      "260\n",
      "262\n",
      "264\n",
      "266\n",
      "268\n",
      "270\n",
      "272\n",
      "274\n",
      "276\n",
      "278\n",
      "280\n",
      "282\n",
      "284\n",
      "286\n",
      "288\n",
      "290\n",
      "292\n",
      "294\n",
      "296\n",
      "298\n",
      "300\n",
      "302\n",
      "304\n",
      "306\n",
      "308\n",
      "310\n",
      "312\n",
      "314\n",
      "316\n",
      "318\n",
      "320\n",
      "322\n",
      "324\n",
      "326\n",
      "328\n",
      "330\n",
      "332\n",
      "334\n",
      "336\n",
      "338\n",
      "340\n",
      "342\n",
      "344\n",
      "346\n",
      "348\n",
      "350\n",
      "352\n",
      "354\n",
      "356\n",
      "358\n",
      "360\n",
      "362\n",
      "364\n",
      "366\n",
      "368\n",
      "370\n",
      "372\n",
      "374\n",
      "376\n",
      "378\n",
      "380\n",
      "382\n",
      "384\n",
      "386\n",
      "388\n",
      "390\n",
      "392\n",
      "394\n",
      "396\n",
      "398\n",
      "400\n",
      "402\n",
      "404\n",
      "406\n",
      "408\n",
      "410\n",
      "412\n",
      "414\n",
      "416\n",
      "418\n",
      "420\n",
      "422\n",
      "424\n",
      "426\n",
      "428\n",
      "430\n",
      "432\n",
      "434\n",
      "436\n",
      "438\n",
      "440\n",
      "442\n",
      "444\n",
      "446\n",
      "448\n",
      "450\n",
      "452\n",
      "454\n",
      "456\n",
      "458\n",
      "460\n",
      "462\n",
      "464\n",
      "466\n",
      "468\n",
      "470\n",
      "472\n",
      "474\n",
      "476\n",
      "478\n",
      "480\n",
      "482\n",
      "484\n",
      "486\n",
      "488\n",
      "490\n",
      "492\n",
      "494\n",
      "496\n",
      "498\n",
      "500\n",
      "502\n",
      "504\n",
      "506\n",
      "508\n",
      "510\n",
      "512\n",
      "514\n",
      "516\n",
      "518\n",
      "520\n",
      "522\n",
      "524\n",
      "526\n",
      "528\n",
      "530\n",
      "532\n",
      "534\n",
      "536\n",
      "538\n",
      "540\n",
      "542\n",
      "544\n",
      "546\n",
      "548\n",
      "550\n",
      "552\n",
      "554\n",
      "556\n",
      "558\n",
      "560\n",
      "562\n",
      "564\n",
      "566\n",
      "568\n",
      "570\n",
      "572\n",
      "574\n",
      "576\n",
      "578\n",
      "580\n",
      "582\n",
      "584\n",
      "586\n",
      "588\n",
      "590\n",
      "592\n",
      "594\n",
      "596\n",
      "598\n",
      "600\n",
      "602\n",
      "604\n",
      "606\n",
      "608\n",
      "610\n",
      "612\n",
      "614\n",
      "616\n",
      "618\n",
      "620\n",
      "622\n",
      "624\n",
      "626\n",
      "628\n",
      "630\n",
      "632\n",
      "634\n",
      "636\n",
      "638\n",
      "640\n",
      "642\n",
      "644\n",
      "646\n",
      "648\n",
      "650\n",
      "652\n",
      "654\n",
      "656\n",
      "658\n",
      "660\n",
      "662\n",
      "664\n",
      "666\n",
      "668\n",
      "670\n",
      "672\n",
      "674\n",
      "676\n",
      "678\n",
      "680\n",
      "682\n",
      "684\n",
      "686\n",
      "688\n",
      "690\n",
      "692\n",
      "694\n",
      "696\n",
      "698\n",
      "700\n",
      "702\n",
      "704\n",
      "706\n",
      "708\n",
      "710\n",
      "712\n",
      "714\n",
      "716\n",
      "718\n",
      "720\n",
      "722\n",
      "724\n",
      "726\n",
      "728\n",
      "730\n",
      "732\n",
      "734\n",
      "736\n",
      "738\n",
      "740\n",
      "742\n",
      "744\n",
      "746\n",
      "748\n",
      "750\n",
      "752\n",
      "754\n",
      "756\n",
      "758\n",
      "760\n",
      "762\n",
      "764\n",
      "766\n",
      "768\n",
      "770\n",
      "772\n",
      "774\n",
      "776\n",
      "778\n",
      "780\n",
      "782\n",
      "784\n",
      "786\n",
      "788\n",
      "790\n",
      "792\n",
      "794\n",
      "796\n",
      "798\n",
      "800\n",
      "802\n",
      "804\n",
      "806\n",
      "808\n",
      "810\n",
      "812\n",
      "814\n",
      "816\n",
      "818\n",
      "820\n",
      "822\n",
      "824\n",
      "826\n",
      "828\n",
      "830\n",
      "832\n",
      "834\n",
      "836\n",
      "838\n",
      "840\n",
      "842\n",
      "844\n",
      "846\n",
      "848\n",
      "850\n",
      "852\n",
      "854\n",
      "856\n",
      "858\n",
      "860\n",
      "862\n",
      "864\n",
      "866\n",
      "868\n",
      "870\n",
      "872\n",
      "874\n",
      "876\n",
      "878\n",
      "880\n",
      "882\n",
      "884\n",
      "886\n",
      "888\n",
      "890\n",
      "892\n",
      "894\n",
      "896\n",
      "898\n",
      "900\n",
      "902\n",
      "904\n",
      "906\n",
      "908\n",
      "910\n",
      "912\n",
      "914\n",
      "916\n",
      "918\n",
      "920\n",
      "922\n",
      "924\n",
      "926\n",
      "928\n",
      "930\n",
      "932\n",
      "934\n",
      "936\n",
      "938\n",
      "940\n",
      "942\n",
      "944\n",
      "946\n",
      "948\n",
      "950\n",
      "952\n",
      "954\n",
      "956\n",
      "958\n",
      "960\n",
      "962\n",
      "964\n",
      "966\n",
      "968\n",
      "970\n",
      "972\n",
      "974\n",
      "976\n",
      "978\n",
      "980\n",
      "982\n",
      "984\n",
      "986\n",
      "988\n",
      "990\n",
      "992\n",
      "994\n",
      "996\n",
      "998\n",
      "1000\n",
      "1002\n",
      "1004\n",
      "1006\n",
      "1008\n",
      "1010\n",
      "1012\n",
      "1014\n",
      "1016\n",
      "1018\n",
      "1020\n",
      "1022\n",
      "1024\n",
      "1026\n",
      "1028\n",
      "1030\n",
      "1032\n",
      "1034\n",
      "1036\n",
      "1038\n",
      "1040\n",
      "1042\n",
      "1044\n",
      "1046\n",
      "1048\n",
      "1050\n",
      "1052\n",
      "1054\n",
      "1056\n",
      "1058\n",
      "1060\n",
      "1062\n",
      "1064\n",
      "1066\n",
      "1068\n",
      "1070\n",
      "1072\n",
      "1074\n",
      "1076\n",
      "1078\n",
      "1080\n",
      "1082\n",
      "1084\n",
      "1086\n",
      "1088\n",
      "1090\n",
      "1092\n",
      "1094\n",
      "1096\n",
      "1098\n",
      "1100\n",
      "1102\n",
      "1104\n",
      "1106\n",
      "1108\n",
      "1110\n",
      "1112\n",
      "1114\n",
      "1116\n",
      "1118\n",
      "1120\n",
      "1122\n",
      "1124\n",
      "1126\n",
      "1128\n",
      "1130\n",
      "1132\n",
      "1134\n",
      "1136\n",
      "1138\n",
      "1140\n",
      "1142\n",
      "1144\n",
      "1146\n",
      "1148\n",
      "1150\n",
      "1152\n",
      "1154\n",
      "1156\n",
      "1158\n",
      "1160\n",
      "1162\n",
      "1164\n",
      "1166\n",
      "1168\n",
      "1170\n",
      "1172\n",
      "1174\n",
      "1176\n",
      "1178\n",
      "1180\n",
      "1182\n",
      "1184\n",
      "1186\n",
      "1188\n",
      "1190\n",
      "1192\n",
      "1194\n",
      "1196\n",
      "1198\n",
      "1200\n",
      "1202\n",
      "1204\n",
      "1206\n",
      "1208\n",
      "1210\n",
      "1212\n",
      "1214\n",
      "1216\n",
      "1218\n",
      "1220\n",
      "1222\n",
      "1224\n",
      "1226\n",
      "1228\n",
      "1230\n",
      "1232\n",
      "1234\n",
      "1236\n",
      "1238\n",
      "1240\n",
      "1242\n",
      "1244\n",
      "1246\n",
      "1248\n",
      "1250\n",
      "1252\n",
      "1254\n",
      "1256\n",
      "1258\n",
      "1260\n",
      "1262\n",
      "1264\n",
      "1266\n",
      "1268\n",
      "1270\n",
      "1272\n",
      "1274\n",
      "1276\n",
      "1278\n",
      "1280\n",
      "1282\n",
      "1284\n",
      "1286\n",
      "1288\n",
      "1290\n",
      "1292\n",
      "1294\n",
      "1296\n",
      "1298\n",
      "1300\n",
      "1302\n",
      "1304\n",
      "1306\n",
      "1308\n",
      "1310\n",
      "1312\n",
      "1314\n",
      "1316\n",
      "1318\n",
      "1320\n",
      "1322\n",
      "1324\n",
      "1326\n",
      "1328\n",
      "1330\n",
      "1332\n",
      "1334\n",
      "1336\n",
      "1338\n",
      "1340\n",
      "1342\n",
      "1344\n",
      "1346\n",
      "1348\n",
      "1350\n",
      "1352\n",
      "1354\n",
      "1356\n",
      "1358\n",
      "1360\n",
      "1362\n",
      "1364\n",
      "1366\n",
      "1368\n",
      "1370\n",
      "1372\n",
      "1374\n",
      "1376\n",
      "1378\n",
      "1380\n",
      "1382\n",
      "1384\n",
      "1386\n",
      "1388\n",
      "1390\n",
      "1392\n",
      "1394\n",
      "1396\n",
      "1398\n",
      "1400\n",
      "1402\n",
      "1404\n",
      "1406\n",
      "1408\n",
      "1410\n",
      "1412\n",
      "1414\n",
      "1416\n",
      "1418\n",
      "1420\n",
      "1422\n",
      "1424\n",
      "1426\n",
      "1428\n",
      "1430\n",
      "1432\n",
      "1434\n",
      "1436\n",
      "1438\n",
      "1440\n",
      "1442\n",
      "1444\n",
      "1446\n",
      "1448\n",
      "1450\n",
      "1452\n",
      "1454\n",
      "1456\n",
      "1458\n",
      "1460\n",
      "1462\n",
      "1464\n",
      "1466\n",
      "1468\n",
      "1470\n",
      "1472\n",
      "1474\n",
      "1476\n",
      "1478\n",
      "1480\n",
      "1482\n",
      "1484\n",
      "1486\n",
      "1488\n",
      "1490\n",
      "1492\n",
      "1494\n",
      "1496\n",
      "1498\n",
      "1500\n",
      "1502\n",
      "1504\n",
      "1506\n",
      "1508\n",
      "1510\n",
      "1512\n",
      "1514\n",
      "1516\n",
      "1518\n",
      "1520\n",
      "1522\n",
      "1524\n",
      "1526\n",
      "1528\n",
      "1530\n",
      "1532\n",
      "1534\n",
      "1536\n",
      "1538\n",
      "1540\n",
      "1542\n",
      "1544\n",
      "1546\n",
      "1548\n",
      "1550\n",
      "1552\n",
      "1554\n",
      "1556\n",
      "1558\n",
      "1560\n",
      "1562\n",
      "1564\n",
      "1566\n",
      "1568\n",
      "1570\n",
      "1572\n",
      "1574\n",
      "1576\n",
      "1578\n",
      "1580\n",
      "1582\n",
      "1584\n",
      "1586\n",
      "1588\n",
      "1590\n",
      "1592\n",
      "1594\n",
      "1596\n",
      "1598\n",
      "1600\n",
      "1602\n",
      "1604\n",
      "1606\n",
      "1608\n",
      "1610\n",
      "1612\n",
      "1614\n",
      "1616\n",
      "1618\n",
      "1620\n",
      "1622\n",
      "1624\n",
      "1626\n",
      "1628\n",
      "1630\n",
      "1632\n",
      "1634\n",
      "1636\n",
      "1638\n",
      "1640\n",
      "1642\n",
      "1644\n",
      "1646\n",
      "1648\n",
      "1650\n",
      "1652\n",
      "1654\n",
      "1656\n",
      "1658\n",
      "1660\n",
      "1662\n",
      "1664\n",
      "1666\n",
      "1668\n",
      "1670\n",
      "1672\n",
      "1674\n",
      "1676\n",
      "1678\n",
      "1680\n",
      "1682\n",
      "1684\n",
      "1686\n",
      "1688\n",
      "1690\n",
      "1692\n",
      "1694\n",
      "1696\n",
      "1698\n",
      "1700\n",
      "1702\n",
      "1704\n",
      "1706\n",
      "1708\n",
      "1710\n",
      "1712\n",
      "1714\n",
      "1716\n",
      "1718\n",
      "1720\n",
      "1722\n",
      "1724\n",
      "1726\n",
      "1728\n",
      "1730\n",
      "1732\n",
      "1734\n",
      "1736\n",
      "1738\n",
      "1740\n",
      "1742\n",
      "1744\n",
      "1746\n",
      "1748\n",
      "1750\n",
      "1752\n",
      "1754\n",
      "1756\n",
      "1758\n",
      "1760\n",
      "1762\n",
      "1764\n",
      "1766\n",
      "1768\n",
      "1770\n",
      "1772\n",
      "1774\n",
      "1776\n",
      "1778\n",
      "1780\n",
      "1782\n",
      "1784\n",
      "1786\n",
      "1788\n",
      "1790\n",
      "1792\n",
      "1794\n",
      "1796\n",
      "1798\n",
      "1800\n",
      "1802\n",
      "1804\n",
      "1806\n",
      "1808\n",
      "1810\n",
      "1812\n",
      "1814\n",
      "1816\n",
      "1818\n",
      "1820\n",
      "1822\n",
      "1824\n",
      "1826\n",
      "1828\n",
      "1830\n",
      "1832\n",
      "1834\n",
      "1836\n",
      "1838\n",
      "1840\n",
      "1842\n",
      "1844\n",
      "1846\n",
      "1848\n",
      "1850\n",
      "1852\n",
      "1854\n",
      "1856\n",
      "1858\n",
      "1860\n",
      "1862\n",
      "1864\n",
      "1866\n",
      "1868\n",
      "1870\n",
      "1872\n",
      "1874\n",
      "1876\n",
      "1878\n",
      "1880\n",
      "1882\n",
      "1884\n",
      "1886\n",
      "1888\n",
      "1890\n",
      "1892\n",
      "1894\n",
      "1896\n",
      "1898\n",
      "1900\n",
      "1902\n",
      "1904\n",
      "1906\n",
      "1908\n",
      "1910\n",
      "1912\n",
      "1914\n",
      "1916\n",
      "1918\n",
      "1920\n",
      "1922\n",
      "1924\n",
      "1926\n",
      "1928\n",
      "1930\n",
      "1932\n",
      "1934\n",
      "1936\n",
      "1938\n",
      "1940\n",
      "1942\n",
      "1944\n",
      "1946\n",
      "1948\n",
      "1950\n",
      "1952\n",
      "1954\n",
      "1956\n",
      "1958\n",
      "1960\n",
      "1962\n",
      "1964\n",
      "1966\n",
      "1968\n",
      "1970\n",
      "1972\n",
      "1974\n",
      "1976\n",
      "1978\n",
      "1980\n",
      "1982\n",
      "1984\n",
      "1986\n",
      "1988\n",
      "1990\n",
      "1992\n",
      "1994\n",
      "1996\n",
      "1998\n",
      "s\n",
      "u\n",
      "c\n",
      "h\n"
     ]
    }
   ],
   "source": [
    "class CounterList:\n",
    "    def __init__(self,begin=0,step=2):\n",
    "        self.begin = begin\n",
    "        self.step = step\n",
    "        self.ownlist = {}\n",
    "        pass\n",
    "    def __setitem__(self,pos,value):\n",
    "        self.ownlist[pos] = value\n",
    "    def __getitem__(self,pos):\n",
    "        if pos<1000:\n",
    "            try:\n",
    "                return self.ownlist[pos]\n",
    "            except KeyError:\n",
    "                return self.begin+self.step*pos\n",
    "        else:\n",
    "            raise StopIteration #这里去写StopIteration也是可以的\n",
    "         \n",
    "couterlist = CounterList()\n",
    "for i in couterlist:\n",
    "    print(i)\n",
    "\n",
    "class Counterlist(list):\n",
    "    def __init__(self,*args):\n",
    "        super(Counterlist,self).__init__(*args)\n",
    "        self.countnum = 0\n",
    "    def __getitem__(self,pos):\n",
    "        super(Counterlist,self).__getitem__(pos)\n",
    "        self.countnum += 1\n",
    "\n",
    "counter = Counterlist(\"such\")\n",
    "for i in counter:\n",
    "    print(i) "
   ]
  },
  {
   "cell_type": "markdown",
   "metadata": {},
   "source": [
    "生成器定义方法 生成器就是特殊的迭代器 只不过每一次next()或者是send()每一次都会将yield后面的值给到生成器中 所以要注意这个独特的运行方式"
   ]
  },
  {
   "cell_type": "code",
   "execution_count": 53,
   "metadata": {},
   "outputs": [
    {
     "name": "stdout",
     "output_type": "stream",
     "text": [
      "10\n",
      "10\n",
      "10\n",
      "10\n"
     ]
    }
   ],
   "source": [
    "def SimpleCoder(x):\n",
    "    '''一个无限循环的生成器'''\n",
    "    while True:\n",
    "        data = yield x  #如果不是外部send进去的数据，x= yield y这样的写法 一定是None 所以才会无限循环\n",
    "        if not data==None:\n",
    "            break\n",
    "\n",
    "sim = SimpleCoder(10)\n",
    "print(next(sim))\n",
    "print(next(sim))  \n",
    "print(next(sim))  \n",
    "print(next(sim))"
   ]
  },
  {
   "cell_type": "code",
   "execution_count": 55,
   "metadata": {},
   "outputs": [
    {
     "name": "stdout",
     "output_type": "stream",
     "text": [
      "输出yield生成的第一个值 0\n",
      "输出send送入的值 10\n",
      "输出yield生成的第二个值 1\n"
     ]
    }
   ],
   "source": [
    "#一个说明生成器中每次next和send运行逻辑的例子\n",
    "def SimpleSeq():\n",
    "    for i in range(5):\n",
    "        y = yield i\n",
    "        print(\"输出send送入的值\",y)\n",
    "\n",
    "sim = SimpleSeq()\n",
    "\n",
    "print(\"输出yield生成的第一个值\",next(sim))\n",
    "print(\"输出yield生成的第二个值\",sim.send(10))"
   ]
  },
  {
   "cell_type": "code",
   "execution_count": null,
   "metadata": {},
   "outputs": [],
   "source": []
  }
 ],
 "metadata": {
  "kernelspec": {
   "display_name": "base",
   "language": "python",
   "name": "python3"
  },
  "language_info": {
   "codemirror_mode": {
    "name": "ipython",
    "version": 3
   },
   "file_extension": ".py",
   "mimetype": "text/x-python",
   "name": "python",
   "nbconvert_exporter": "python",
   "pygments_lexer": "ipython3",
   "version": "3.11.3"
  }
 },
 "nbformat": 4,
 "nbformat_minor": 2
}
