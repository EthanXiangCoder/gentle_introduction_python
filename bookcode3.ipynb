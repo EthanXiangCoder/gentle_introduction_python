{
 "cells": [
  {
   "cell_type": "code",
   "execution_count": 6,
   "metadata": {},
   "outputs": [
    {
     "data": {
      "text/plain": [
       "['Michael B Jordan', 'Michael Jordan']"
      ]
     },
     "execution_count": 6,
     "metadata": {},
     "output_type": "execute_result"
    }
   ],
   "source": [
    "dictionary = {}\n",
    "\n",
    "def init(data):\n",
    "    data[\"first\"] = {}\n",
    "    data[\"second\"] = {}\n",
    "    data[\"third\"] = {}\n",
    "\n",
    "def search(data,part,namepart):\n",
    "    return data[part].get(namepart)\n",
    "\n",
    "def save(data,*names):\n",
    "    for name in names:\n",
    "        namelist = name.split()\n",
    "        if len(namelist)==2:\n",
    "            namelist.insert(1,\" \")\n",
    "        partlist = [\"first\",\"second\",\"third\"]\n",
    "\n",
    "        for namepart,part in zip(namelist,partlist):\n",
    "            result = search(data,part,namepart)\n",
    "            if result:\n",
    "                result.append(name)\n",
    "            else:\n",
    "                data[part][namepart] = [name]\n",
    "\n",
    "init(dictionary)\n",
    "save(dictionary,\"Michael B Jordan\",\"Michael Jordan\")\n",
    "search(dictionary,\"first\",\"Michael\")\n"
   ]
  },
  {
   "cell_type": "code",
   "execution_count": 9,
   "metadata": {},
   "outputs": [
    {
     "name": "stdout",
     "output_type": "stream",
     "text": [
      "0.6666666666666666\n",
      "0\n",
      "1\n",
      "-4\n",
      "-4\n",
      "3\n",
      "-2\n",
      "2\n",
      "-1\n"
     ]
    }
   ],
   "source": [
    "from __future__ import division\n",
    "#除法的部分可以重新说明 3.之后的python版本都支持真正的除法，比如：\n",
    "print(2/3) # 0.666\n",
    "print(2//3) # 0\n",
    "#如果是在python2.之前，所有的除法都是类似c++之中的，追求整除 此时可以调用future\n",
    "print(10%3) # 1\n",
    "#当除数或被除数当中含有负数的时候 运算法则是向下圆除 所以当结果是负数的时候 结果会更加远离0\n",
    "print(10 // -3) # -4\n",
    "print(-10 // 3) # -4\n",
    "print(-10 // -3) # 3\n",
    "print(10 % -3) #-2\n",
    "print(-10 % 3) #2\n",
    "print(-10 % -3) #-1"
   ]
  },
  {
   "cell_type": "code",
   "execution_count": 13,
   "metadata": {},
   "outputs": [
    {
     "name": "stdout",
     "output_type": "stream",
     "text": [
      "1j\n",
      "(-8+1j)\n"
     ]
    }
   ],
   "source": [
    "# from math import *\n",
    "from math import sqrt as sqrt1\n",
    "from cmath import sqrt as sqrt2\n",
    "print(sqrt2(-1)) #ValueError: math domain error\n",
    "#Python中针对复数也有相应的模块\n",
    "print((-1+2j)*(2+3j))\n"
   ]
  },
  {
   "cell_type": "code",
   "execution_count": 22,
   "metadata": {},
   "outputs": [
    {
     "name": "stdout",
     "output_type": "stream",
     "text": [
      "'Hello\\nworld'\n",
      "Hell0\n",
      "world\n",
      "dsljdlkasjdlkjasdljasljdlsadjlasjfljsalkjlfjlkjdklasjldkjaslkjdflsajdlkasjdljaslkdjasl\n",
      "      dsmalkdjlksajdlkasjdljasldjlasjdlasjkdlkjafo\n",
      "C:\n",
      "owhere\\my_fault\n",
      "C:\\nowhere\\my_fault\n",
      "this is a \\\"crazy\\\" world\n"
     ]
    }
   ],
   "source": [
    "#chapter1 简单的说明一下字符串的一些用法\n",
    "#第一个是repr和str两个函数的用法 比如在一些不想其遵循字符串显示规律的情况下：\n",
    "word = repr(\"Hello\\nworld\")\n",
    "print(word) #repr将字符串按其原本的样子显示出来\n",
    "print(str(\"Hell0\\nworld\"))\n",
    "\n",
    "#当遇到一些长字符串的时候 可以使用长字符串的规则 本身字符串中\"\"和''可以互不干扰的相互使用 长字符串就是使用''' ''' 比如：\n",
    "print('''dsljdlkasjdlkjasdljasljdlsadjlasjfljsalkjlfjlkjdklasjldkjaslkjdflsajdlkasjdljaslkdjasl\n",
    "      dsmalkdjlksajdlkasjdljasldjlasjdlasjkdlkjafo''')\n",
    "\n",
    "#原始字符串的引入是在一些时候不希望发生字符转义 比如我想输出一个简单的路径：\n",
    "print(\"C:\\nowhere\\my_fault\") #\\n发生转移 此时可以使用原始字符串，如下：\n",
    "print(r\"C:\\nowhere\\my_fault\")\n",
    "#值得说明的是，原始字符串中如果出现' 需要通过转义给其消除，否则编译器无法判断出字符串在哪里中断 但原始字符串不会消除转义符号 这意味着转义符号也会出现在原始字符串中\n",
    "print(r\"this is a \\\"crazy\\\" world\") # SyntaxError: invalid syntax 如果在代码中使用的是' ' 则不会报错 因为单双引号是一一对应的\n",
    "\n",
    "\n"
   ]
  },
  {
   "cell_type": "code",
   "execution_count": 23,
   "metadata": {},
   "outputs": [
    {
     "ename": "",
     "evalue": "",
     "output_type": "error",
     "traceback": [
      "\u001b[1;31m在当前单元格或上一个单元格中执行代码时 Kernel 崩溃。\n",
      "\u001b[1;31m请查看单元格中的代码，以确定故障的可能原因。\n",
      "\u001b[1;31m单击<a href='https://aka.ms/vscodeJupyterKernelCrash'>此处</a>了解详细信息。\n",
      "\u001b[1;31m有关更多详细信息，请查看 Jupyter <a href='command:jupyter.viewOutput'>log</a>。"
     ]
    }
   ],
   "source": [
    "#随便玩玩的turtle\n",
    "from turtle import *\n",
    "forward(100)\n",
    "left(80)\n",
    "forward(20)\n",
    "right(80)\n",
    "back(20)"
   ]
  },
  {
   "cell_type": "code",
   "execution_count": null,
   "metadata": {},
   "outputs": [],
   "source": [
    "#首先python中最常用的数据结构是序列，序列的特点就是单个的数据单元和一个索引相互对应 常见的三种序列为列表、元组、字符串 列表和元组的最大区别在于列表是可更改的 而元组是不可更改的\n",
    "\n"
   ]
  }
 ],
 "metadata": {
  "kernelspec": {
   "display_name": "Python 3",
   "language": "python",
   "name": "python3"
  },
  "language_info": {
   "codemirror_mode": {
    "name": "ipython",
    "version": 3
   },
   "file_extension": ".py",
   "mimetype": "text/x-python",
   "name": "python",
   "nbconvert_exporter": "python",
   "pygments_lexer": "ipython3",
   "version": "3.8.18"
  }
 },
 "nbformat": 4,
 "nbformat_minor": 2
}
